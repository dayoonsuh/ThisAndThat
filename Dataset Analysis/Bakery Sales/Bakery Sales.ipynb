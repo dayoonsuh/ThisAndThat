{
 "cells": [
  {
   "cell_type": "code",
   "execution_count": 1,
   "id": "e36a3e65-64ca-4bba-be3f-f5f0d87aa694",
   "metadata": {},
   "outputs": [],
   "source": [
    "import matplotlib as mpl\n",
    "import matplotlib.pyplot as plt\n",
    "import pandas as pd\n",
    "import numpy as np\n",
    "from datetime import datetime\n",
    "from collections import Counter"
   ]
  },
  {
   "cell_type": "code",
   "execution_count": 2,
   "id": "9615a0be-69d3-42ed-b1f2-9b64c7fe2c7e",
   "metadata": {},
   "outputs": [],
   "source": [
    "sales = pd.read_csv('Bakery sales.csv', parse_dates = ['date'])"
   ]
  },
  {
   "cell_type": "code",
   "execution_count": 3,
   "id": "8b784828-0723-4685-a6aa-c0ee9d4bc62b",
   "metadata": {},
   "outputs": [
    {
     "data": {
      "text/html": [
       "<div>\n",
       "<style scoped>\n",
       "    .dataframe tbody tr th:only-of-type {\n",
       "        vertical-align: middle;\n",
       "    }\n",
       "\n",
       "    .dataframe tbody tr th {\n",
       "        vertical-align: top;\n",
       "    }\n",
       "\n",
       "    .dataframe thead th {\n",
       "        text-align: right;\n",
       "    }\n",
       "</style>\n",
       "<table border=\"1\" class=\"dataframe\">\n",
       "  <thead>\n",
       "    <tr style=\"text-align: right;\">\n",
       "      <th></th>\n",
       "      <th>Unnamed: 0</th>\n",
       "      <th>date</th>\n",
       "      <th>time</th>\n",
       "      <th>ticket_number</th>\n",
       "      <th>article</th>\n",
       "      <th>Quantity</th>\n",
       "      <th>unit_price</th>\n",
       "    </tr>\n",
       "  </thead>\n",
       "  <tbody>\n",
       "    <tr>\n",
       "      <th>0</th>\n",
       "      <td>0</td>\n",
       "      <td>2021-01-02</td>\n",
       "      <td>08:38</td>\n",
       "      <td>150040.0</td>\n",
       "      <td>BAGUETTE</td>\n",
       "      <td>1.0</td>\n",
       "      <td>0,90 €</td>\n",
       "    </tr>\n",
       "    <tr>\n",
       "      <th>1</th>\n",
       "      <td>1</td>\n",
       "      <td>2021-01-02</td>\n",
       "      <td>08:38</td>\n",
       "      <td>150040.0</td>\n",
       "      <td>PAIN AU CHOCOLAT</td>\n",
       "      <td>3.0</td>\n",
       "      <td>1,20 €</td>\n",
       "    </tr>\n",
       "    <tr>\n",
       "      <th>2</th>\n",
       "      <td>4</td>\n",
       "      <td>2021-01-02</td>\n",
       "      <td>09:14</td>\n",
       "      <td>150041.0</td>\n",
       "      <td>PAIN AU CHOCOLAT</td>\n",
       "      <td>2.0</td>\n",
       "      <td>1,20 €</td>\n",
       "    </tr>\n",
       "    <tr>\n",
       "      <th>3</th>\n",
       "      <td>5</td>\n",
       "      <td>2021-01-02</td>\n",
       "      <td>09:14</td>\n",
       "      <td>150041.0</td>\n",
       "      <td>PAIN</td>\n",
       "      <td>1.0</td>\n",
       "      <td>1,15 €</td>\n",
       "    </tr>\n",
       "    <tr>\n",
       "      <th>4</th>\n",
       "      <td>8</td>\n",
       "      <td>2021-01-02</td>\n",
       "      <td>09:25</td>\n",
       "      <td>150042.0</td>\n",
       "      <td>TRADITIONAL BAGUETTE</td>\n",
       "      <td>5.0</td>\n",
       "      <td>1,20 €</td>\n",
       "    </tr>\n",
       "  </tbody>\n",
       "</table>\n",
       "</div>"
      ],
      "text/plain": [
       "   Unnamed: 0       date   time  ticket_number               article  \\\n",
       "0           0 2021-01-02  08:38       150040.0              BAGUETTE   \n",
       "1           1 2021-01-02  08:38       150040.0      PAIN AU CHOCOLAT   \n",
       "2           4 2021-01-02  09:14       150041.0      PAIN AU CHOCOLAT   \n",
       "3           5 2021-01-02  09:14       150041.0                  PAIN   \n",
       "4           8 2021-01-02  09:25       150042.0  TRADITIONAL BAGUETTE   \n",
       "\n",
       "   Quantity unit_price  \n",
       "0       1.0     0,90 €  \n",
       "1       3.0     1,20 €  \n",
       "2       2.0     1,20 €  \n",
       "3       1.0     1,15 €  \n",
       "4       5.0     1,20 €  "
      ]
     },
     "execution_count": 3,
     "metadata": {},
     "output_type": "execute_result"
    }
   ],
   "source": [
    "sales.head()"
   ]
  },
  {
   "cell_type": "code",
   "execution_count": 4,
   "id": "91f866bb-b985-4e22-bebd-c5520f069a10",
   "metadata": {},
   "outputs": [
    {
     "data": {
      "text/html": [
       "<div>\n",
       "<style scoped>\n",
       "    .dataframe tbody tr th:only-of-type {\n",
       "        vertical-align: middle;\n",
       "    }\n",
       "\n",
       "    .dataframe tbody tr th {\n",
       "        vertical-align: top;\n",
       "    }\n",
       "\n",
       "    .dataframe thead th {\n",
       "        text-align: right;\n",
       "    }\n",
       "</style>\n",
       "<table border=\"1\" class=\"dataframe\">\n",
       "  <thead>\n",
       "    <tr style=\"text-align: right;\">\n",
       "      <th></th>\n",
       "      <th>Unnamed: 0</th>\n",
       "      <th>date</th>\n",
       "      <th>time</th>\n",
       "      <th>ticket_number</th>\n",
       "      <th>article</th>\n",
       "      <th>Quantity</th>\n",
       "      <th>unit_price</th>\n",
       "    </tr>\n",
       "  </thead>\n",
       "  <tbody>\n",
       "    <tr>\n",
       "      <th>234000</th>\n",
       "      <td>511387</td>\n",
       "      <td>2022-09-30</td>\n",
       "      <td>18:52</td>\n",
       "      <td>288911.0</td>\n",
       "      <td>COUPE</td>\n",
       "      <td>1.0</td>\n",
       "      <td>0,15 €</td>\n",
       "    </tr>\n",
       "    <tr>\n",
       "      <th>234001</th>\n",
       "      <td>511388</td>\n",
       "      <td>2022-09-30</td>\n",
       "      <td>18:52</td>\n",
       "      <td>288911.0</td>\n",
       "      <td>BOULE 200G</td>\n",
       "      <td>1.0</td>\n",
       "      <td>1,20 €</td>\n",
       "    </tr>\n",
       "    <tr>\n",
       "      <th>234002</th>\n",
       "      <td>511389</td>\n",
       "      <td>2022-09-30</td>\n",
       "      <td>18:52</td>\n",
       "      <td>288911.0</td>\n",
       "      <td>COUPE</td>\n",
       "      <td>2.0</td>\n",
       "      <td>0,15 €</td>\n",
       "    </tr>\n",
       "    <tr>\n",
       "      <th>234003</th>\n",
       "      <td>511392</td>\n",
       "      <td>2022-09-30</td>\n",
       "      <td>18:55</td>\n",
       "      <td>288912.0</td>\n",
       "      <td>TRADITIONAL BAGUETTE</td>\n",
       "      <td>1.0</td>\n",
       "      <td>1,30 €</td>\n",
       "    </tr>\n",
       "    <tr>\n",
       "      <th>234004</th>\n",
       "      <td>511395</td>\n",
       "      <td>2022-09-30</td>\n",
       "      <td>18:56</td>\n",
       "      <td>288913.0</td>\n",
       "      <td>TRADITIONAL BAGUETTE</td>\n",
       "      <td>1.0</td>\n",
       "      <td>1,30 €</td>\n",
       "    </tr>\n",
       "  </tbody>\n",
       "</table>\n",
       "</div>"
      ],
      "text/plain": [
       "        Unnamed: 0       date   time  ticket_number               article  \\\n",
       "234000      511387 2022-09-30  18:52       288911.0                 COUPE   \n",
       "234001      511388 2022-09-30  18:52       288911.0            BOULE 200G   \n",
       "234002      511389 2022-09-30  18:52       288911.0                 COUPE   \n",
       "234003      511392 2022-09-30  18:55       288912.0  TRADITIONAL BAGUETTE   \n",
       "234004      511395 2022-09-30  18:56       288913.0  TRADITIONAL BAGUETTE   \n",
       "\n",
       "        Quantity unit_price  \n",
       "234000       1.0     0,15 €  \n",
       "234001       1.0     1,20 €  \n",
       "234002       2.0     0,15 €  \n",
       "234003       1.0     1,30 €  \n",
       "234004       1.0     1,30 €  "
      ]
     },
     "execution_count": 4,
     "metadata": {},
     "output_type": "execute_result"
    }
   ],
   "source": [
    "sales.tail()"
   ]
  },
  {
   "cell_type": "markdown",
   "id": "2158452d-85ed-445c-80b8-91e803cf8f31",
   "metadata": {},
   "source": [
    "The record starts from 2021-01-02 and end at 2022-09-30."
   ]
  },
  {
   "cell_type": "code",
   "execution_count": 5,
   "id": "2c1772ed-64ba-402b-afb1-6fa45a741928",
   "metadata": {},
   "outputs": [
    {
     "name": "stdout",
     "output_type": "stream",
     "text": [
      "<class 'pandas.core.frame.DataFrame'>\n",
      "RangeIndex: 234005 entries, 0 to 234004\n",
      "Data columns (total 7 columns):\n",
      " #   Column         Non-Null Count   Dtype         \n",
      "---  ------         --------------   -----         \n",
      " 0   Unnamed: 0     234005 non-null  int64         \n",
      " 1   date           234005 non-null  datetime64[ns]\n",
      " 2   time           234005 non-null  object        \n",
      " 3   ticket_number  234005 non-null  float64       \n",
      " 4   article        234005 non-null  object        \n",
      " 5   Quantity       234005 non-null  float64       \n",
      " 6   unit_price     234005 non-null  object        \n",
      "dtypes: datetime64[ns](1), float64(2), int64(1), object(3)\n",
      "memory usage: 12.5+ MB\n"
     ]
    }
   ],
   "source": [
    "sales.info()"
   ]
  },
  {
   "cell_type": "code",
   "execution_count": 6,
   "id": "c17210d0-bdb2-49dc-9ec8-b80b702971be",
   "metadata": {},
   "outputs": [
    {
     "data": {
      "text/html": [
       "<div>\n",
       "<style scoped>\n",
       "    .dataframe tbody tr th:only-of-type {\n",
       "        vertical-align: middle;\n",
       "    }\n",
       "\n",
       "    .dataframe tbody tr th {\n",
       "        vertical-align: top;\n",
       "    }\n",
       "\n",
       "    .dataframe thead th {\n",
       "        text-align: right;\n",
       "    }\n",
       "</style>\n",
       "<table border=\"1\" class=\"dataframe\">\n",
       "  <thead>\n",
       "    <tr style=\"text-align: right;\">\n",
       "      <th></th>\n",
       "      <th>Unnamed: 0</th>\n",
       "      <th>ticket_number</th>\n",
       "      <th>Quantity</th>\n",
       "    </tr>\n",
       "  </thead>\n",
       "  <tbody>\n",
       "    <tr>\n",
       "      <th>count</th>\n",
       "      <td>234005.000000</td>\n",
       "      <td>234005.000000</td>\n",
       "      <td>234005.000000</td>\n",
       "    </tr>\n",
       "    <tr>\n",
       "      <th>mean</th>\n",
       "      <td>255205.035854</td>\n",
       "      <td>219201.258738</td>\n",
       "      <td>1.538377</td>\n",
       "    </tr>\n",
       "    <tr>\n",
       "      <th>std</th>\n",
       "      <td>147501.625992</td>\n",
       "      <td>40053.223896</td>\n",
       "      <td>1.289603</td>\n",
       "    </tr>\n",
       "    <tr>\n",
       "      <th>min</th>\n",
       "      <td>0.000000</td>\n",
       "      <td>150040.000000</td>\n",
       "      <td>-200.000000</td>\n",
       "    </tr>\n",
       "    <tr>\n",
       "      <th>25%</th>\n",
       "      <td>127979.000000</td>\n",
       "      <td>184754.000000</td>\n",
       "      <td>1.000000</td>\n",
       "    </tr>\n",
       "    <tr>\n",
       "      <th>50%</th>\n",
       "      <td>254573.000000</td>\n",
       "      <td>218807.000000</td>\n",
       "      <td>1.000000</td>\n",
       "    </tr>\n",
       "    <tr>\n",
       "      <th>75%</th>\n",
       "      <td>382911.000000</td>\n",
       "      <td>253927.000000</td>\n",
       "      <td>2.000000</td>\n",
       "    </tr>\n",
       "    <tr>\n",
       "      <th>max</th>\n",
       "      <td>511395.000000</td>\n",
       "      <td>288913.000000</td>\n",
       "      <td>200.000000</td>\n",
       "    </tr>\n",
       "  </tbody>\n",
       "</table>\n",
       "</div>"
      ],
      "text/plain": [
       "          Unnamed: 0  ticket_number       Quantity\n",
       "count  234005.000000  234005.000000  234005.000000\n",
       "mean   255205.035854  219201.258738       1.538377\n",
       "std    147501.625992   40053.223896       1.289603\n",
       "min         0.000000  150040.000000    -200.000000\n",
       "25%    127979.000000  184754.000000       1.000000\n",
       "50%    254573.000000  218807.000000       1.000000\n",
       "75%    382911.000000  253927.000000       2.000000\n",
       "max    511395.000000  288913.000000     200.000000"
      ]
     },
     "execution_count": 6,
     "metadata": {},
     "output_type": "execute_result"
    }
   ],
   "source": [
    "sales.describe()"
   ]
  },
  {
   "cell_type": "code",
   "execution_count": 7,
   "id": "10e9dcce-a6ae-421a-9d44-ab27470f93c0",
   "metadata": {},
   "outputs": [
    {
     "data": {
      "text/plain": [
       "array(['BAGUETTE', 'PAIN AU CHOCOLAT', 'PAIN', 'TRADITIONAL BAGUETTE',\n",
       "       'CROISSANT', 'BANETTE', 'BANETTINE', 'SPECIAL BREAD', 'COUPE',\n",
       "       'SAND JB EMMENTAL', 'KOUIGN AMANN', 'BOULE 200G', 'BOULE 400G',\n",
       "       'GAL FRANGIPANE 6P', 'CAMPAGNE', 'MOISSON', 'CAFE OU EAU',\n",
       "       'BRIOCHE', 'CEREAL BAGUETTE', 'SEIGLE', 'COMPLET',\n",
       "       'DIVERS PATISSERIE', 'GAL FRANGIPANE 4P', 'COOKIE', 'FICELLE',\n",
       "       'PAIN AUX RAISINS', 'GAL POMME 6P', 'GAL POMME 4P', 'FINANCIER X5',\n",
       "       'VIK BREAD', 'DIVERS VIENNOISERIE', 'GACHE', 'SANDWICH COMPLET',\n",
       "       'PAIN BANETTE', 'GRAND FAR BRETON', 'QUIM BREAD',\n",
       "       'SPECIAL BREAD KG', 'GD KOUIGN AMANN', 'BOULE POLKA',\n",
       "       'DEMI BAGUETTE', 'CHAUSSON AUX POMMES', 'BAGUETTE GRAINE',\n",
       "       'DIVERS CONFISERIE', 'SUCETTE', 'DIVERS BOULANGERIE',\n",
       "       'BOISSON 33CL', 'PATES', 'FORMULE SANDWICH', 'DIVERS SANDWICHS',\n",
       "       'CROISSANT AMANDES', 'PAIN CHOCO AMANDES', 'SACHET VIENNOISERIE',\n",
       "       'NANTAIS', 'CHOCOLAT', 'PAIN S/SEL', 'FONDANT CHOCOLAT',\n",
       "       'GAL POIRE CHOCO 6P', 'GAL POIRE CHOCO 4P', 'GALETTE 8 PERS',\n",
       "       'SAND JB', 'SACHET DE CROUTON', 'GRANDE SUCETTE', 'DEMI PAIN',\n",
       "       'TARTELETTE', 'FLAN', 'PARIS BREST', 'SAVARIN', 'FLAN ABRICOT',\n",
       "       'BAGUETTE APERO', 'MILLES FEUILLES', 'CHOU CHANTILLY', 'ECLAIR',\n",
       "       'ROYAL 4P', 'TARTE FRUITS 6P', 'TARTE FRUITS 4P', 'NOIX JAPONAISE',\n",
       "       'THE', 'BRIOCHETTE', 'ROYAL 6P', 'ECLAIR FRAISE PISTACHE', '.',\n",
       "       'GD FAR BRETON', 'TRIANGLES', 'TROPEZIENNE',\n",
       "       'TROPEZIENNE FRAMBOISE', 'ROYAL', 'TARTE FRAISE 6P',\n",
       "       'TARTELETTE FRAISE', 'TARTE FRAISE 4PER', 'FRAISIER',\n",
       "       'NID DE POULE', 'TARTELETTE CHOC', 'PAIN DE MIE', 'CRUMBLE',\n",
       "       'FINANCIER', 'DIVERS BOISSONS', 'CAKE', 'VIENNOISE', 'TRAITEUR',\n",
       "       'PAIN GRAINES', 'PLATPREPARE6,50', 'PLATPREPARE5,50',\n",
       "       'PLATPREPARE7,00', 'FORMULE PLAT PREPARE', 'ST HONORE', 'BROWNIES',\n",
       "       'RELIGIEUSE', 'PLATPREPARE6,00', 'DELICETROPICAL',\n",
       "       'CRUMBLECARAMEL OU PISTAE', 'PT NANTAIS', 'GD NANTAIS',\n",
       "       'DOUCEUR D HIVER', 'TROIS CHOCOLAT', 'ARTICLE 295', 'TARTE FINE',\n",
       "       'ENTREMETS', 'BRIOCHE DE NOEL', 'FRAMBOISIER', 'BUCHE 4PERS',\n",
       "       'BUCHE 6PERS', 'GD PLATEAU SALE', 'BUCHE 8PERS', 'PT PLATEAU SALE',\n",
       "       'REDUCTION SUCREES 12', 'PAIN NOIR', 'REDUCTION SUCREES 24',\n",
       "       'BOTTEREAU', 'MERINGUE', 'PALMIER', 'PAILLE', 'PLAT 6.50E',\n",
       "       'PLAT 7.60E', 'PLAT 7.00', 'PLAT', 'PLAT 8.30E', 'FORMULE PATE',\n",
       "       'GUERANDAIS', 'PALET BRETON', 'CARAMEL NOIX', 'MACARON',\n",
       "       '12 MACARON', 'ARMORICAIN', 'PLAQUE TARTE 25P', 'SABLE F  P',\n",
       "       'PAIN SUISSE PEPITO', 'TULIPE', 'TARTELETTE COCKTAIL',\n",
       "       'SACHET DE VIENNOISERIE'], dtype=object)"
      ]
     },
     "execution_count": 7,
     "metadata": {},
     "output_type": "execute_result"
    }
   ],
   "source": [
    "sales.article.unique()"
   ]
  },
  {
   "cell_type": "code",
   "execution_count": 8,
   "id": "e0de9b25-7274-4335-8d77-5c1e9f3697b7",
   "metadata": {},
   "outputs": [
    {
     "data": {
      "text/html": [
       "<div>\n",
       "<style scoped>\n",
       "    .dataframe tbody tr th:only-of-type {\n",
       "        vertical-align: middle;\n",
       "    }\n",
       "\n",
       "    .dataframe tbody tr th {\n",
       "        vertical-align: top;\n",
       "    }\n",
       "\n",
       "    .dataframe thead th {\n",
       "        text-align: right;\n",
       "    }\n",
       "</style>\n",
       "<table border=\"1\" class=\"dataframe\">\n",
       "  <thead>\n",
       "    <tr style=\"text-align: right;\">\n",
       "      <th></th>\n",
       "      <th>Unnamed: 0</th>\n",
       "      <th>date</th>\n",
       "      <th>time</th>\n",
       "      <th>ticket_number</th>\n",
       "      <th>article</th>\n",
       "      <th>Quantity</th>\n",
       "      <th>unit_price</th>\n",
       "    </tr>\n",
       "  </thead>\n",
       "  <tbody>\n",
       "    <tr>\n",
       "      <th>15360</th>\n",
       "      <td>33726</td>\n",
       "      <td>2021-03-04</td>\n",
       "      <td>12:32</td>\n",
       "      <td>159219.0</td>\n",
       "      <td>.</td>\n",
       "      <td>2.0</td>\n",
       "      <td>0,00 €</td>\n",
       "    </tr>\n",
       "    <tr>\n",
       "      <th>19904</th>\n",
       "      <td>43541</td>\n",
       "      <td>2021-03-18</td>\n",
       "      <td>12:59</td>\n",
       "      <td>161853.0</td>\n",
       "      <td>.</td>\n",
       "      <td>1.0</td>\n",
       "      <td>0,00 €</td>\n",
       "    </tr>\n",
       "    <tr>\n",
       "      <th>24959</th>\n",
       "      <td>54650</td>\n",
       "      <td>2021-04-04</td>\n",
       "      <td>09:53</td>\n",
       "      <td>164878.0</td>\n",
       "      <td>.</td>\n",
       "      <td>1.0</td>\n",
       "      <td>0,00 €</td>\n",
       "    </tr>\n",
       "    <tr>\n",
       "      <th>33569</th>\n",
       "      <td>73667</td>\n",
       "      <td>2021-04-27</td>\n",
       "      <td>16:48</td>\n",
       "      <td>170079.0</td>\n",
       "      <td>.</td>\n",
       "      <td>1.0</td>\n",
       "      <td>0,00 €</td>\n",
       "    </tr>\n",
       "    <tr>\n",
       "      <th>61792</th>\n",
       "      <td>135091</td>\n",
       "      <td>2021-07-10</td>\n",
       "      <td>13:25</td>\n",
       "      <td>186662.0</td>\n",
       "      <td>.</td>\n",
       "      <td>2.0</td>\n",
       "      <td>0,00 €</td>\n",
       "    </tr>\n",
       "  </tbody>\n",
       "</table>\n",
       "</div>"
      ],
      "text/plain": [
       "       Unnamed: 0       date   time  ticket_number article  Quantity  \\\n",
       "15360       33726 2021-03-04  12:32       159219.0       .       2.0   \n",
       "19904       43541 2021-03-18  12:59       161853.0       .       1.0   \n",
       "24959       54650 2021-04-04  09:53       164878.0       .       1.0   \n",
       "33569       73667 2021-04-27  16:48       170079.0       .       1.0   \n",
       "61792      135091 2021-07-10  13:25       186662.0       .       2.0   \n",
       "\n",
       "      unit_price  \n",
       "15360     0,00 €  \n",
       "19904     0,00 €  \n",
       "24959     0,00 €  \n",
       "33569     0,00 €  \n",
       "61792     0,00 €  "
      ]
     },
     "execution_count": 8,
     "metadata": {},
     "output_type": "execute_result"
    }
   ],
   "source": [
    "sales[sales['article'] == '.']"
   ]
  },
  {
   "cell_type": "markdown",
   "id": "a9122300-b9fd-44c2-a8ac-daa14584a182",
   "metadata": {},
   "source": [
    "## Data Cleaning"
   ]
  },
  {
   "cell_type": "code",
   "execution_count": 9,
   "id": "e19ead63-3756-4e47-8bf1-59a656ce83e9",
   "metadata": {
    "tags": []
   },
   "outputs": [],
   "source": [
    "sales = sales[['date','time','article', 'Quantity', 'unit_price']]"
   ]
  },
  {
   "cell_type": "markdown",
   "id": "98a47df0-66fd-4287-8e24-6ca24be6a7da",
   "metadata": {},
   "source": [
    "Removed the columns \"Unnamed: 0\" and \"ticket_number\"."
   ]
  },
  {
   "cell_type": "code",
   "execution_count": 10,
   "id": "b3290ca4-5072-4df0-8725-9b4948e0d5ba",
   "metadata": {},
   "outputs": [],
   "source": [
    "drop_index = sales[sales['article'] == '.'].index"
   ]
  },
  {
   "cell_type": "code",
   "execution_count": 11,
   "id": "64fc06ff-21d9-4f08-ba8a-04b517f81b94",
   "metadata": {},
   "outputs": [],
   "source": [
    "sales.drop(drop_index, inplace=True)"
   ]
  },
  {
   "cell_type": "code",
   "execution_count": 12,
   "id": "18bb724b-31d7-4568-90e9-d195ff0d5d81",
   "metadata": {},
   "outputs": [
    {
     "data": {
      "text/html": [
       "<div>\n",
       "<style scoped>\n",
       "    .dataframe tbody tr th:only-of-type {\n",
       "        vertical-align: middle;\n",
       "    }\n",
       "\n",
       "    .dataframe tbody tr th {\n",
       "        vertical-align: top;\n",
       "    }\n",
       "\n",
       "    .dataframe thead th {\n",
       "        text-align: right;\n",
       "    }\n",
       "</style>\n",
       "<table border=\"1\" class=\"dataframe\">\n",
       "  <thead>\n",
       "    <tr style=\"text-align: right;\">\n",
       "      <th></th>\n",
       "      <th>date</th>\n",
       "      <th>time</th>\n",
       "      <th>article</th>\n",
       "      <th>Quantity</th>\n",
       "      <th>unit_price</th>\n",
       "    </tr>\n",
       "  </thead>\n",
       "  <tbody>\n",
       "  </tbody>\n",
       "</table>\n",
       "</div>"
      ],
      "text/plain": [
       "Empty DataFrame\n",
       "Columns: [date, time, article, Quantity, unit_price]\n",
       "Index: []"
      ]
     },
     "execution_count": 12,
     "metadata": {},
     "output_type": "execute_result"
    }
   ],
   "source": [
    "sales[sales['article'] == '.']"
   ]
  },
  {
   "cell_type": "code",
   "execution_count": 13,
   "id": "8fba52e1-efb0-4006-ad92-60293485c8ab",
   "metadata": {},
   "outputs": [],
   "source": [
    "sales['unit_price'] = sales['unit_price'].str.replace(',','.')\n",
    "sales['unit_price'] = sales['unit_price'].str.replace(' €','')\n",
    "sales['unit_price'] = pd.to_numeric(sales['unit_price'])"
   ]
  },
  {
   "cell_type": "code",
   "execution_count": 14,
   "id": "d069817d-5d62-4b77-b1af-83713a987b20",
   "metadata": {},
   "outputs": [
    {
     "name": "stdout",
     "output_type": "stream",
     "text": [
      "<class 'pandas.core.frame.DataFrame'>\n",
      "Int64Index: 234000 entries, 0 to 234004\n",
      "Data columns (total 5 columns):\n",
      " #   Column      Non-Null Count   Dtype         \n",
      "---  ------      --------------   -----         \n",
      " 0   date        234000 non-null  datetime64[ns]\n",
      " 1   time        234000 non-null  object        \n",
      " 2   article     234000 non-null  object        \n",
      " 3   Quantity    234000 non-null  float64       \n",
      " 4   unit_price  234000 non-null  float64       \n",
      "dtypes: datetime64[ns](1), float64(2), object(2)\n",
      "memory usage: 10.7+ MB\n"
     ]
    }
   ],
   "source": [
    "sales.info()"
   ]
  },
  {
   "cell_type": "code",
   "execution_count": 15,
   "id": "54bd183b-e3f0-47f8-8815-25e5c57423a2",
   "metadata": {},
   "outputs": [],
   "source": [
    "zeroprice = sales[sales.unit_price == 0]"
   ]
  },
  {
   "cell_type": "code",
   "execution_count": 16,
   "id": "790177d3-8a7a-443b-a4be-5b67fcbcce81",
   "metadata": {},
   "outputs": [
    {
     "data": {
      "text/html": [
       "<div>\n",
       "<style scoped>\n",
       "    .dataframe tbody tr th:only-of-type {\n",
       "        vertical-align: middle;\n",
       "    }\n",
       "\n",
       "    .dataframe tbody tr th {\n",
       "        vertical-align: top;\n",
       "    }\n",
       "\n",
       "    .dataframe thead th {\n",
       "        text-align: right;\n",
       "    }\n",
       "</style>\n",
       "<table border=\"1\" class=\"dataframe\">\n",
       "  <thead>\n",
       "    <tr style=\"text-align: right;\">\n",
       "      <th></th>\n",
       "      <th>Quantity</th>\n",
       "      <th>unit_price</th>\n",
       "    </tr>\n",
       "    <tr>\n",
       "      <th>article</th>\n",
       "      <th></th>\n",
       "      <th></th>\n",
       "    </tr>\n",
       "  </thead>\n",
       "  <tbody>\n",
       "    <tr>\n",
       "      <th>ARTICLE 295</th>\n",
       "      <td>1.0</td>\n",
       "      <td>0.0</td>\n",
       "    </tr>\n",
       "    <tr>\n",
       "      <th>DIVERS BOISSONS</th>\n",
       "      <td>1.0</td>\n",
       "      <td>0.0</td>\n",
       "    </tr>\n",
       "    <tr>\n",
       "      <th>DIVERS BOULANGERIE</th>\n",
       "      <td>2.0</td>\n",
       "      <td>0.0</td>\n",
       "    </tr>\n",
       "    <tr>\n",
       "      <th>DIVERS CONFISERIE</th>\n",
       "      <td>3.0</td>\n",
       "      <td>0.0</td>\n",
       "    </tr>\n",
       "    <tr>\n",
       "      <th>DIVERS PATISSERIE</th>\n",
       "      <td>7.0</td>\n",
       "      <td>0.0</td>\n",
       "    </tr>\n",
       "    <tr>\n",
       "      <th>DIVERS SANDWICHS</th>\n",
       "      <td>0.0</td>\n",
       "      <td>0.0</td>\n",
       "    </tr>\n",
       "    <tr>\n",
       "      <th>DIVERS VIENNOISERIE</th>\n",
       "      <td>2.0</td>\n",
       "      <td>0.0</td>\n",
       "    </tr>\n",
       "    <tr>\n",
       "      <th>GD FAR BRETON</th>\n",
       "      <td>4.0</td>\n",
       "      <td>0.0</td>\n",
       "    </tr>\n",
       "    <tr>\n",
       "      <th>PLATPREPARE6,50</th>\n",
       "      <td>1.0</td>\n",
       "      <td>0.0</td>\n",
       "    </tr>\n",
       "    <tr>\n",
       "      <th>TRAITEUR</th>\n",
       "      <td>4.0</td>\n",
       "      <td>0.0</td>\n",
       "    </tr>\n",
       "  </tbody>\n",
       "</table>\n",
       "</div>"
      ],
      "text/plain": [
       "                     Quantity  unit_price\n",
       "article                                  \n",
       "ARTICLE 295               1.0         0.0\n",
       "DIVERS BOISSONS           1.0         0.0\n",
       "DIVERS BOULANGERIE        2.0         0.0\n",
       "DIVERS CONFISERIE         3.0         0.0\n",
       "DIVERS PATISSERIE         7.0         0.0\n",
       "DIVERS SANDWICHS          0.0         0.0\n",
       "DIVERS VIENNOISERIE       2.0         0.0\n",
       "GD FAR BRETON             4.0         0.0\n",
       "PLATPREPARE6,50           1.0         0.0\n",
       "TRAITEUR                  4.0         0.0"
      ]
     },
     "execution_count": 16,
     "metadata": {},
     "output_type": "execute_result"
    }
   ],
   "source": [
    "zeroprice.groupby('article').sum()"
   ]
  },
  {
   "cell_type": "markdown",
   "id": "caf15878-4d5c-4e83-af2b-8d3f84a156e2",
   "metadata": {},
   "source": [
    "No null data."
   ]
  },
  {
   "cell_type": "code",
   "execution_count": 17,
   "id": "2a9a871e-989b-4848-a32e-2ae9167e9ce7",
   "metadata": {},
   "outputs": [],
   "source": [
    "sales['total_price'] = sales['Quantity'] * sales['unit_price']"
   ]
  },
  {
   "cell_type": "code",
   "execution_count": 18,
   "id": "54402329-5de8-4818-bcc2-a7b214b7553b",
   "metadata": {},
   "outputs": [],
   "source": [
    "sales['year'] = sales['date'].map(lambda x: x.year)\n",
    "sales['month'] = sales['date'].map(lambda x: x.month)\n",
    "sales['hour'] = sales['time'].map(lambda x: datetime.strptime(x, \"%H:%M\").hour)"
   ]
  },
  {
   "cell_type": "code",
   "execution_count": 19,
   "id": "c68f3efa-7cba-4b83-bf2d-5177e95c88e5",
   "metadata": {},
   "outputs": [
    {
     "data": {
      "text/html": [
       "<div>\n",
       "<style scoped>\n",
       "    .dataframe tbody tr th:only-of-type {\n",
       "        vertical-align: middle;\n",
       "    }\n",
       "\n",
       "    .dataframe tbody tr th {\n",
       "        vertical-align: top;\n",
       "    }\n",
       "\n",
       "    .dataframe thead th {\n",
       "        text-align: right;\n",
       "    }\n",
       "</style>\n",
       "<table border=\"1\" class=\"dataframe\">\n",
       "  <thead>\n",
       "    <tr style=\"text-align: right;\">\n",
       "      <th></th>\n",
       "      <th>date</th>\n",
       "      <th>time</th>\n",
       "      <th>article</th>\n",
       "      <th>Quantity</th>\n",
       "      <th>unit_price</th>\n",
       "      <th>total_price</th>\n",
       "      <th>year</th>\n",
       "      <th>month</th>\n",
       "      <th>hour</th>\n",
       "    </tr>\n",
       "  </thead>\n",
       "  <tbody>\n",
       "    <tr>\n",
       "      <th>0</th>\n",
       "      <td>2021-01-02</td>\n",
       "      <td>08:38</td>\n",
       "      <td>BAGUETTE</td>\n",
       "      <td>1.0</td>\n",
       "      <td>0.90</td>\n",
       "      <td>0.90</td>\n",
       "      <td>2021</td>\n",
       "      <td>1</td>\n",
       "      <td>8</td>\n",
       "    </tr>\n",
       "    <tr>\n",
       "      <th>1</th>\n",
       "      <td>2021-01-02</td>\n",
       "      <td>08:38</td>\n",
       "      <td>PAIN AU CHOCOLAT</td>\n",
       "      <td>3.0</td>\n",
       "      <td>1.20</td>\n",
       "      <td>3.60</td>\n",
       "      <td>2021</td>\n",
       "      <td>1</td>\n",
       "      <td>8</td>\n",
       "    </tr>\n",
       "    <tr>\n",
       "      <th>2</th>\n",
       "      <td>2021-01-02</td>\n",
       "      <td>09:14</td>\n",
       "      <td>PAIN AU CHOCOLAT</td>\n",
       "      <td>2.0</td>\n",
       "      <td>1.20</td>\n",
       "      <td>2.40</td>\n",
       "      <td>2021</td>\n",
       "      <td>1</td>\n",
       "      <td>9</td>\n",
       "    </tr>\n",
       "    <tr>\n",
       "      <th>3</th>\n",
       "      <td>2021-01-02</td>\n",
       "      <td>09:14</td>\n",
       "      <td>PAIN</td>\n",
       "      <td>1.0</td>\n",
       "      <td>1.15</td>\n",
       "      <td>1.15</td>\n",
       "      <td>2021</td>\n",
       "      <td>1</td>\n",
       "      <td>9</td>\n",
       "    </tr>\n",
       "    <tr>\n",
       "      <th>4</th>\n",
       "      <td>2021-01-02</td>\n",
       "      <td>09:25</td>\n",
       "      <td>TRADITIONAL BAGUETTE</td>\n",
       "      <td>5.0</td>\n",
       "      <td>1.20</td>\n",
       "      <td>6.00</td>\n",
       "      <td>2021</td>\n",
       "      <td>1</td>\n",
       "      <td>9</td>\n",
       "    </tr>\n",
       "  </tbody>\n",
       "</table>\n",
       "</div>"
      ],
      "text/plain": [
       "        date   time               article  Quantity  unit_price  total_price  \\\n",
       "0 2021-01-02  08:38              BAGUETTE       1.0        0.90         0.90   \n",
       "1 2021-01-02  08:38      PAIN AU CHOCOLAT       3.0        1.20         3.60   \n",
       "2 2021-01-02  09:14      PAIN AU CHOCOLAT       2.0        1.20         2.40   \n",
       "3 2021-01-02  09:14                  PAIN       1.0        1.15         1.15   \n",
       "4 2021-01-02  09:25  TRADITIONAL BAGUETTE       5.0        1.20         6.00   \n",
       "\n",
       "   year  month  hour  \n",
       "0  2021      1     8  \n",
       "1  2021      1     8  \n",
       "2  2021      1     9  \n",
       "3  2021      1     9  \n",
       "4  2021      1     9  "
      ]
     },
     "execution_count": 19,
     "metadata": {},
     "output_type": "execute_result"
    }
   ],
   "source": [
    "sales.head()"
   ]
  },
  {
   "cell_type": "code",
   "execution_count": 20,
   "id": "53d7aa22-d571-4687-9586-60b2d373f68d",
   "metadata": {
    "tags": []
   },
   "outputs": [
    {
     "data": {
      "text/html": [
       "<div>\n",
       "<style scoped>\n",
       "    .dataframe tbody tr th:only-of-type {\n",
       "        vertical-align: middle;\n",
       "    }\n",
       "\n",
       "    .dataframe tbody tr th {\n",
       "        vertical-align: top;\n",
       "    }\n",
       "\n",
       "    .dataframe thead th {\n",
       "        text-align: right;\n",
       "    }\n",
       "</style>\n",
       "<table border=\"1\" class=\"dataframe\">\n",
       "  <thead>\n",
       "    <tr style=\"text-align: right;\">\n",
       "      <th></th>\n",
       "      <th>Quantity</th>\n",
       "      <th>unit_price</th>\n",
       "      <th>total_price</th>\n",
       "      <th>year</th>\n",
       "      <th>month</th>\n",
       "      <th>hour</th>\n",
       "    </tr>\n",
       "  </thead>\n",
       "  <tbody>\n",
       "    <tr>\n",
       "      <th>count</th>\n",
       "      <td>234000.000000</td>\n",
       "      <td>234000.000000</td>\n",
       "      <td>234000.000000</td>\n",
       "      <td>234000.000000</td>\n",
       "      <td>234000.000000</td>\n",
       "      <td>234000.000000</td>\n",
       "    </tr>\n",
       "    <tr>\n",
       "      <th>mean</th>\n",
       "      <td>1.538380</td>\n",
       "      <td>1.662230</td>\n",
       "      <td>2.387354</td>\n",
       "      <td>2021.438397</td>\n",
       "      <td>6.240906</td>\n",
       "      <td>11.072009</td>\n",
       "    </tr>\n",
       "    <tr>\n",
       "      <th>std</th>\n",
       "      <td>1.289615</td>\n",
       "      <td>1.722721</td>\n",
       "      <td>2.635046</td>\n",
       "      <td>0.496192</td>\n",
       "      <td>2.800779</td>\n",
       "      <td>2.774396</td>\n",
       "    </tr>\n",
       "    <tr>\n",
       "      <th>min</th>\n",
       "      <td>-200.000000</td>\n",
       "      <td>0.000000</td>\n",
       "      <td>-200.000000</td>\n",
       "      <td>2021.000000</td>\n",
       "      <td>1.000000</td>\n",
       "      <td>7.000000</td>\n",
       "    </tr>\n",
       "    <tr>\n",
       "      <th>25%</th>\n",
       "      <td>1.000000</td>\n",
       "      <td>1.100000</td>\n",
       "      <td>1.200000</td>\n",
       "      <td>2021.000000</td>\n",
       "      <td>4.000000</td>\n",
       "      <td>9.000000</td>\n",
       "    </tr>\n",
       "    <tr>\n",
       "      <th>50%</th>\n",
       "      <td>1.000000</td>\n",
       "      <td>1.200000</td>\n",
       "      <td>1.600000</td>\n",
       "      <td>2021.000000</td>\n",
       "      <td>7.000000</td>\n",
       "      <td>11.000000</td>\n",
       "    </tr>\n",
       "    <tr>\n",
       "      <th>75%</th>\n",
       "      <td>2.000000</td>\n",
       "      <td>1.500000</td>\n",
       "      <td>2.600000</td>\n",
       "      <td>2022.000000</td>\n",
       "      <td>8.000000</td>\n",
       "      <td>12.000000</td>\n",
       "    </tr>\n",
       "    <tr>\n",
       "      <th>max</th>\n",
       "      <td>200.000000</td>\n",
       "      <td>60.000000</td>\n",
       "      <td>200.000000</td>\n",
       "      <td>2022.000000</td>\n",
       "      <td>12.000000</td>\n",
       "      <td>20.000000</td>\n",
       "    </tr>\n",
       "  </tbody>\n",
       "</table>\n",
       "</div>"
      ],
      "text/plain": [
       "            Quantity     unit_price    total_price           year  \\\n",
       "count  234000.000000  234000.000000  234000.000000  234000.000000   \n",
       "mean        1.538380       1.662230       2.387354    2021.438397   \n",
       "std         1.289615       1.722721       2.635046       0.496192   \n",
       "min      -200.000000       0.000000    -200.000000    2021.000000   \n",
       "25%         1.000000       1.100000       1.200000    2021.000000   \n",
       "50%         1.000000       1.200000       1.600000    2021.000000   \n",
       "75%         2.000000       1.500000       2.600000    2022.000000   \n",
       "max       200.000000      60.000000     200.000000    2022.000000   \n",
       "\n",
       "               month           hour  \n",
       "count  234000.000000  234000.000000  \n",
       "mean        6.240906      11.072009  \n",
       "std         2.800779       2.774396  \n",
       "min         1.000000       7.000000  \n",
       "25%         4.000000       9.000000  \n",
       "50%         7.000000      11.000000  \n",
       "75%         8.000000      12.000000  \n",
       "max        12.000000      20.000000  "
      ]
     },
     "execution_count": 20,
     "metadata": {},
     "output_type": "execute_result"
    }
   ],
   "source": [
    "sales.describe()"
   ]
  },
  {
   "cell_type": "markdown",
   "id": "ab7799ea-6ee5-432f-9bda-2a8f7832e89d",
   "metadata": {},
   "source": [
    "Negative values in Quantity seems like purchase cancellation or refund."
   ]
  },
  {
   "cell_type": "markdown",
   "id": "2c0cbe30-1cc3-49fe-af75-a049f2cc635d",
   "metadata": {},
   "source": [
    "## EDA"
   ]
  },
  {
   "cell_type": "code",
   "execution_count": 21,
   "id": "bb783b4c-e3ed-4ab3-b8f3-64ec76fd8759",
   "metadata": {},
   "outputs": [],
   "source": [
    "itemed = sales.groupby(\"article\").sum()"
   ]
  },
  {
   "cell_type": "markdown",
   "id": "57b88bfc-11db-4a39-96fa-28fb56009bc8",
   "metadata": {},
   "source": [
    "We do not use count() because it includes negative quantity values"
   ]
  },
  {
   "cell_type": "code",
   "execution_count": 22,
   "id": "9713d910-981b-41aa-b3ed-a9ae9c2dec30",
   "metadata": {},
   "outputs": [],
   "source": [
    "top_ten = itemed.sort_values(by = 'Quantity', ascending = False).head(10)"
   ]
  },
  {
   "cell_type": "code",
   "execution_count": 23,
   "id": "a413943a-688d-4fb5-9995-bc08e1d9ff24",
   "metadata": {},
   "outputs": [
    {
     "data": {
      "text/html": [
       "<div>\n",
       "<style scoped>\n",
       "    .dataframe tbody tr th:only-of-type {\n",
       "        vertical-align: middle;\n",
       "    }\n",
       "\n",
       "    .dataframe tbody tr th {\n",
       "        vertical-align: top;\n",
       "    }\n",
       "\n",
       "    .dataframe thead th {\n",
       "        text-align: right;\n",
       "    }\n",
       "</style>\n",
       "<table border=\"1\" class=\"dataframe\">\n",
       "  <thead>\n",
       "    <tr style=\"text-align: right;\">\n",
       "      <th></th>\n",
       "      <th>Quantity</th>\n",
       "      <th>unit_price</th>\n",
       "      <th>total_price</th>\n",
       "      <th>year</th>\n",
       "      <th>month</th>\n",
       "      <th>hour</th>\n",
       "    </tr>\n",
       "    <tr>\n",
       "      <th>article</th>\n",
       "      <th></th>\n",
       "      <th></th>\n",
       "      <th></th>\n",
       "      <th></th>\n",
       "      <th></th>\n",
       "      <th></th>\n",
       "    </tr>\n",
       "  </thead>\n",
       "  <tbody>\n",
       "    <tr>\n",
       "      <th>TRADITIONAL BAGUETTE</th>\n",
       "      <td>117463.0</td>\n",
       "      <td>83400.15</td>\n",
       "      <td>144756.05</td>\n",
       "      <td>136829759</td>\n",
       "      <td>427006</td>\n",
       "      <td>769575</td>\n",
       "    </tr>\n",
       "    <tr>\n",
       "      <th>CROISSANT</th>\n",
       "      <td>29654.0</td>\n",
       "      <td>13030.55</td>\n",
       "      <td>33579.50</td>\n",
       "      <td>23262885</td>\n",
       "      <td>72603</td>\n",
       "      <td>107717</td>\n",
       "    </tr>\n",
       "    <tr>\n",
       "      <th>PAIN AU CHOCOLAT</th>\n",
       "      <td>25236.0</td>\n",
       "      <td>13036.20</td>\n",
       "      <td>31100.45</td>\n",
       "      <td>21382977</td>\n",
       "      <td>66223</td>\n",
       "      <td>101044</td>\n",
       "    </tr>\n",
       "    <tr>\n",
       "      <th>COUPE</th>\n",
       "      <td>23505.0</td>\n",
       "      <td>3070.50</td>\n",
       "      <td>3525.75</td>\n",
       "      <td>41378581</td>\n",
       "      <td>127959</td>\n",
       "      <td>232807</td>\n",
       "    </tr>\n",
       "    <tr>\n",
       "      <th>BANETTE</th>\n",
       "      <td>22732.0</td>\n",
       "      <td>16343.20</td>\n",
       "      <td>24555.15</td>\n",
       "      <td>30584285</td>\n",
       "      <td>94539</td>\n",
       "      <td>164419</td>\n",
       "    </tr>\n",
       "    <tr>\n",
       "      <th>BAGUETTE</th>\n",
       "      <td>22053.0</td>\n",
       "      <td>14208.00</td>\n",
       "      <td>20481.40</td>\n",
       "      <td>30911711</td>\n",
       "      <td>94406</td>\n",
       "      <td>161242</td>\n",
       "    </tr>\n",
       "    <tr>\n",
       "      <th>CEREAL BAGUETTE</th>\n",
       "      <td>7427.0</td>\n",
       "      <td>6328.00</td>\n",
       "      <td>9473.40</td>\n",
       "      <td>10028072</td>\n",
       "      <td>30678</td>\n",
       "      <td>57228</td>\n",
       "    </tr>\n",
       "    <tr>\n",
       "      <th>SPECIAL BREAD</th>\n",
       "      <td>5456.0</td>\n",
       "      <td>12776.30</td>\n",
       "      <td>13419.70</td>\n",
       "      <td>10501354</td>\n",
       "      <td>31827</td>\n",
       "      <td>58354</td>\n",
       "    </tr>\n",
       "    <tr>\n",
       "      <th>FORMULE SANDWICH</th>\n",
       "      <td>5181.0</td>\n",
       "      <td>28179.00</td>\n",
       "      <td>34710.50</td>\n",
       "      <td>8494218</td>\n",
       "      <td>24823</td>\n",
       "      <td>47885</td>\n",
       "    </tr>\n",
       "    <tr>\n",
       "      <th>TARTELETTE</th>\n",
       "      <td>5020.0</td>\n",
       "      <td>5889.50</td>\n",
       "      <td>10333.80</td>\n",
       "      <td>5783334</td>\n",
       "      <td>17497</td>\n",
       "      <td>33604</td>\n",
       "    </tr>\n",
       "  </tbody>\n",
       "</table>\n",
       "</div>"
      ],
      "text/plain": [
       "                      Quantity  unit_price  total_price       year   month  \\\n",
       "article                                                                      \n",
       "TRADITIONAL BAGUETTE  117463.0    83400.15    144756.05  136829759  427006   \n",
       "CROISSANT              29654.0    13030.55     33579.50   23262885   72603   \n",
       "PAIN AU CHOCOLAT       25236.0    13036.20     31100.45   21382977   66223   \n",
       "COUPE                  23505.0     3070.50      3525.75   41378581  127959   \n",
       "BANETTE                22732.0    16343.20     24555.15   30584285   94539   \n",
       "BAGUETTE               22053.0    14208.00     20481.40   30911711   94406   \n",
       "CEREAL BAGUETTE         7427.0     6328.00      9473.40   10028072   30678   \n",
       "SPECIAL BREAD           5456.0    12776.30     13419.70   10501354   31827   \n",
       "FORMULE SANDWICH        5181.0    28179.00     34710.50    8494218   24823   \n",
       "TARTELETTE              5020.0     5889.50     10333.80    5783334   17497   \n",
       "\n",
       "                        hour  \n",
       "article                       \n",
       "TRADITIONAL BAGUETTE  769575  \n",
       "CROISSANT             107717  \n",
       "PAIN AU CHOCOLAT      101044  \n",
       "COUPE                 232807  \n",
       "BANETTE               164419  \n",
       "BAGUETTE              161242  \n",
       "CEREAL BAGUETTE        57228  \n",
       "SPECIAL BREAD          58354  \n",
       "FORMULE SANDWICH       47885  \n",
       "TARTELETTE             33604  "
      ]
     },
     "execution_count": 23,
     "metadata": {},
     "output_type": "execute_result"
    }
   ],
   "source": [
    "top_ten"
   ]
  },
  {
   "cell_type": "code",
   "execution_count": 24,
   "id": "174a25fa-c30a-4257-aa72-a5f3abc841d3",
   "metadata": {},
   "outputs": [
    {
     "data": {
      "text/plain": [
       "Index(['TRADITIONAL BAGUETTE', 'CROISSANT', 'PAIN AU CHOCOLAT', 'COUPE',\n",
       "       'BANETTE', 'BAGUETTE', 'CEREAL BAGUETTE', 'SPECIAL BREAD',\n",
       "       'FORMULE SANDWICH', 'TARTELETTE'],\n",
       "      dtype='object', name='article')"
      ]
     },
     "execution_count": 24,
     "metadata": {},
     "output_type": "execute_result"
    }
   ],
   "source": [
    "top_ten.index"
   ]
  },
  {
   "cell_type": "code",
   "execution_count": 25,
   "id": "0d1e70a5-4158-4ae2-bd44-4a0c38d2b588",
   "metadata": {},
   "outputs": [
    {
     "data": {
      "image/png": "[encoded data removed]",
      "text/plain": [
       "<Figure size 432x288 with 1 Axes>"
      ]
     },
     "metadata": {
      "needs_background": "light"
     },
     "output_type": "display_data"
    }
   ],
   "source": [
    "plt.subplots()\n",
    "colors = ['tan' if (b < top_ten.Quantity.max()) else 'brown' for b in top_ten.Quantity]\n",
    "plt.bar(top_ten.index, top_ten.Quantity, color = colors)\n",
    "plt.title(\"10 Most Selled Products\")\n",
    "plt.ylabel(\"Quantity\")\n",
    "plt.xticks(rotation = 90)\n",
    "plt.show()"
   ]
  },
  {
   "cell_type": "markdown",
   "id": "0f8484f0-b4eb-4a00-9046-9635296a8eb5",
   "metadata": {},
   "source": [
    "From 2021-01-02 to 2022-09-30, the most selled item is TRADITIONAL BAGUETTE. The difference between the sales of other popular items, TRADITIONAL BAGUETTE is outstandingly popular."
   ]
  },
  {
   "cell_type": "markdown",
   "id": "94047ba0-2344-444f-bfb4-dd30743335e2",
   "metadata": {},
   "source": [
    "#### Hourly Sales"
   ]
  },
  {
   "cell_type": "code",
   "execution_count": 26,
   "id": "f5b1cb16-06e4-403b-896c-b5e9b90724e3",
   "metadata": {},
   "outputs": [],
   "source": [
    "sales_by_hour = sales.groupby('hour')"
   ]
  },
  {
   "cell_type": "code",
   "execution_count": 27,
   "id": "a62a5653-f393-4c75-8b8b-5041171651d2",
   "metadata": {
    "tags": []
   },
   "outputs": [
    {
     "data": {
      "text/plain": [
       "hour\n",
       "7      22.386667\n",
       "8      84.020000\n",
       "9      95.740000\n",
       "10    107.493333\n",
       "11    115.326667\n",
       "12     87.090000\n",
       "13     14.583333\n",
       "14      0.430000\n",
       "15      0.233333\n",
       "16     20.655000\n",
       "17     26.856667\n",
       "18     22.678333\n",
       "19      2.463333\n",
       "20      0.011667\n",
       "Name: Quantity, dtype: float64"
      ]
     },
     "execution_count": 27,
     "metadata": {},
     "output_type": "execute_result"
    }
   ],
   "source": [
    "sales_by_hour.sum().Quantity/len(sales['date'].unique())"
   ]
  },
  {
   "cell_type": "markdown",
   "id": "4c857579-aee6-4606-907d-07ddbeaecd4d",
   "metadata": {},
   "source": [
    "This is sum of the number of sales on hourly basis from Jan 2021 to Sep 2022 - 600 days (excluding closed days)."
   ]
  },
  {
   "cell_type": "code",
   "execution_count": 28,
   "id": "b623d8f4-b150-4dfc-be87-25a3289c0581",
   "metadata": {
    "tags": []
   },
   "outputs": [
    {
     "data": {
      "text/html": [
       "<div>\n",
       "<style scoped>\n",
       "    .dataframe tbody tr th:only-of-type {\n",
       "        vertical-align: middle;\n",
       "    }\n",
       "\n",
       "    .dataframe tbody tr th {\n",
       "        vertical-align: top;\n",
       "    }\n",
       "\n",
       "    .dataframe thead th {\n",
       "        text-align: right;\n",
       "    }\n",
       "</style>\n",
       "<table border=\"1\" class=\"dataframe\">\n",
       "  <thead>\n",
       "    <tr style=\"text-align: right;\">\n",
       "      <th></th>\n",
       "      <th>date</th>\n",
       "      <th>time</th>\n",
       "      <th>article</th>\n",
       "      <th>Quantity</th>\n",
       "      <th>unit_price</th>\n",
       "      <th>total_price</th>\n",
       "      <th>year</th>\n",
       "      <th>month</th>\n",
       "      <th>hour</th>\n",
       "    </tr>\n",
       "  </thead>\n",
       "  <tbody>\n",
       "    <tr>\n",
       "      <th>116534</th>\n",
       "      <td>2021-11-02</td>\n",
       "      <td>20:01</td>\n",
       "      <td>TRADITIONAL BAGUETTE</td>\n",
       "      <td>2.0</td>\n",
       "      <td>1.20</td>\n",
       "      <td>2.40</td>\n",
       "      <td>2021</td>\n",
       "      <td>11</td>\n",
       "      <td>20</td>\n",
       "    </tr>\n",
       "    <tr>\n",
       "      <th>116880</th>\n",
       "      <td>2021-11-03</td>\n",
       "      <td>20:01</td>\n",
       "      <td>COUPE</td>\n",
       "      <td>1.0</td>\n",
       "      <td>0.15</td>\n",
       "      <td>0.15</td>\n",
       "      <td>2021</td>\n",
       "      <td>11</td>\n",
       "      <td>20</td>\n",
       "    </tr>\n",
       "    <tr>\n",
       "      <th>116881</th>\n",
       "      <td>2021-11-03</td>\n",
       "      <td>20:01</td>\n",
       "      <td>MOISSON</td>\n",
       "      <td>1.0</td>\n",
       "      <td>2.00</td>\n",
       "      <td>2.00</td>\n",
       "      <td>2021</td>\n",
       "      <td>11</td>\n",
       "      <td>20</td>\n",
       "    </tr>\n",
       "    <tr>\n",
       "      <th>116882</th>\n",
       "      <td>2021-11-03</td>\n",
       "      <td>20:01</td>\n",
       "      <td>TRADITIONAL BAGUETTE</td>\n",
       "      <td>1.0</td>\n",
       "      <td>1.20</td>\n",
       "      <td>1.20</td>\n",
       "      <td>2021</td>\n",
       "      <td>11</td>\n",
       "      <td>20</td>\n",
       "    </tr>\n",
       "    <tr>\n",
       "      <th>117213</th>\n",
       "      <td>2021-11-04</td>\n",
       "      <td>20:01</td>\n",
       "      <td>TRADITIONAL BAGUETTE</td>\n",
       "      <td>1.0</td>\n",
       "      <td>1.20</td>\n",
       "      <td>1.20</td>\n",
       "      <td>2021</td>\n",
       "      <td>11</td>\n",
       "      <td>20</td>\n",
       "    </tr>\n",
       "    <tr>\n",
       "      <th>117214</th>\n",
       "      <td>2021-11-04</td>\n",
       "      <td>20:01</td>\n",
       "      <td>TRADITIONAL BAGUETTE</td>\n",
       "      <td>-1.0</td>\n",
       "      <td>1.20</td>\n",
       "      <td>-1.20</td>\n",
       "      <td>2021</td>\n",
       "      <td>11</td>\n",
       "      <td>20</td>\n",
       "    </tr>\n",
       "    <tr>\n",
       "      <th>118498</th>\n",
       "      <td>2021-11-08</td>\n",
       "      <td>20:00</td>\n",
       "      <td>ARTICLE 295</td>\n",
       "      <td>1.0</td>\n",
       "      <td>0.00</td>\n",
       "      <td>0.00</td>\n",
       "      <td>2021</td>\n",
       "      <td>11</td>\n",
       "      <td>20</td>\n",
       "    </tr>\n",
       "    <tr>\n",
       "      <th>118499</th>\n",
       "      <td>2021-11-08</td>\n",
       "      <td>20:00</td>\n",
       "      <td>TRADITIONAL BAGUETTE</td>\n",
       "      <td>1.0</td>\n",
       "      <td>1.20</td>\n",
       "      <td>1.20</td>\n",
       "      <td>2021</td>\n",
       "      <td>11</td>\n",
       "      <td>20</td>\n",
       "    </tr>\n",
       "  </tbody>\n",
       "</table>\n",
       "</div>"
      ],
      "text/plain": [
       "             date   time               article  Quantity  unit_price  \\\n",
       "116534 2021-11-02  20:01  TRADITIONAL BAGUETTE       2.0        1.20   \n",
       "116880 2021-11-03  20:01                 COUPE       1.0        0.15   \n",
       "116881 2021-11-03  20:01               MOISSON       1.0        2.00   \n",
       "116882 2021-11-03  20:01  TRADITIONAL BAGUETTE       1.0        1.20   \n",
       "117213 2021-11-04  20:01  TRADITIONAL BAGUETTE       1.0        1.20   \n",
       "117214 2021-11-04  20:01  TRADITIONAL BAGUETTE      -1.0        1.20   \n",
       "118498 2021-11-08  20:00           ARTICLE 295       1.0        0.00   \n",
       "118499 2021-11-08  20:00  TRADITIONAL BAGUETTE       1.0        1.20   \n",
       "\n",
       "        total_price  year  month  hour  \n",
       "116534         2.40  2021     11    20  \n",
       "116880         0.15  2021     11    20  \n",
       "116881         2.00  2021     11    20  \n",
       "116882         1.20  2021     11    20  \n",
       "117213         1.20  2021     11    20  \n",
       "117214        -1.20  2021     11    20  \n",
       "118498         0.00  2021     11    20  \n",
       "118499         1.20  2021     11    20  "
      ]
     },
     "execution_count": 28,
     "metadata": {},
     "output_type": "execute_result"
    }
   ],
   "source": [
    "sales[sales.hour == 20]"
   ]
  },
  {
   "cell_type": "markdown",
   "id": "52d179a3-2dee-468e-976e-da9b5809ffc2",
   "metadata": {},
   "source": [
    "To get some sense of daily sales based on time, I divided the sum of quantity grouped by hours by 600 days."
   ]
  },
  {
   "cell_type": "markdown",
   "id": "e5c14042-6b55-416b-9cdc-b4a7e0f84634",
   "metadata": {},
   "source": [
    "Based on the chart, it seems that people buy breads the most in the morning."
   ]
  },
  {
   "cell_type": "markdown",
   "id": "6fe2dccc-8aa4-46ab-b0b6-d8c5c8d3ff5c",
   "metadata": {},
   "source": [
    "hour 7 means from 7:00 to 7:59, approximately 22 items were sold on average."
   ]
  },
  {
   "cell_type": "markdown",
   "id": "9d132b6b-cac2-458a-9963-adfdfa3b7f0f",
   "metadata": {},
   "source": [
    "We will not consider hour 20 since it seems like 20 is the closing time. A few purchases made in 20 seems like some customers came in just before closing and bought products."
   ]
  },
  {
   "cell_type": "markdown",
   "id": "500740f0-40d6-4d6d-a1ac-a1c396a25c4e",
   "metadata": {},
   "source": [
    "The reason why I am using sum() instead of count() is because of the negative values in Quantity. We are focusing on the number of products sold rather than the number of transactions. count() includes cancelled items while sum() calculates the real total number of products sold."
   ]
  },
  {
   "cell_type": "code",
   "execution_count": 53,
   "id": "c80c0295-5543-4f63-ac4f-5bc4b9de9e79",
   "metadata": {},
   "outputs": [
    {
     "data": {
      "image/png": "[encoded data removed]",
      "text/plain": [
       "<Figure size 576x396 with 1 Axes>"
      ]
     },
     "metadata": {},
     "output_type": "display_data"
    }
   ],
   "source": [
    "plt.style.use('fivethirtyeight')\n",
    "plt.plot((sales_by_hour.sum().Quantity/len(sales['date'].unique()))[:-1], marker = 'o', color = 'royalblue')\n",
    "plt.xticks(sales_by_hour.sum().index[:-1])\n",
    "plt.title('Number of Products Sold on Daily & Hourly Basis')\n",
    "plt.xlabel('Hour')\n",
    "plt.ylabel('Quantity on Average')\n",
    "plt.show()"
   ]
  },
  {
   "cell_type": "code",
   "execution_count": 30,
   "id": "04ceeade-6d6f-4276-bd3c-b277405b9810",
   "metadata": {},
   "outputs": [
    {
     "data": {
      "image/png": "[encoded data removed]",
      "text/plain": [
       "<Figure size 432x288 with 1 Axes>"
      ]
     },
     "metadata": {},
     "output_type": "display_data"
    }
   ],
   "source": [
    "plt.style.use('fivethirtyeight')\n",
    "bins = [7,8,9,10,11,12,13,14,15,16,17,18,19,20]\n",
    "plt.hist(sales.hour, bins = bins, edgecolor='black')\n",
    "plt.tight_layout()"
   ]
  },
  {
   "cell_type": "markdown",
   "id": "f8ef9d6d-7752-4691-8f8a-832e54927b2c",
   "metadata": {},
   "source": [
    "## Compare Year 2021 and 2022"
   ]
  },
  {
   "cell_type": "code",
   "execution_count": 31,
   "id": "59c13bdb-0cf7-41f7-bcc6-1f27c5ebf65a",
   "metadata": {},
   "outputs": [],
   "source": [
    "sales_2021 = sales[sales['year'] == 2021]"
   ]
  },
  {
   "cell_type": "code",
   "execution_count": 32,
   "id": "790ee3d1-0f85-4104-90d2-f126f16c615f",
   "metadata": {},
   "outputs": [],
   "source": [
    "sales_2022 = sales[sales['year'] == 2022]"
   ]
  },
  {
   "cell_type": "code",
   "execution_count": 33,
   "id": "89d2d739-2f04-4707-911b-5411487ae272",
   "metadata": {},
   "outputs": [
    {
     "data": {
      "text/html": [
       "<div>\n",
       "<style scoped>\n",
       "    .dataframe tbody tr th:only-of-type {\n",
       "        vertical-align: middle;\n",
       "    }\n",
       "\n",
       "    .dataframe tbody tr th {\n",
       "        vertical-align: top;\n",
       "    }\n",
       "\n",
       "    .dataframe thead th {\n",
       "        text-align: right;\n",
       "    }\n",
       "</style>\n",
       "<table border=\"1\" class=\"dataframe\">\n",
       "  <thead>\n",
       "    <tr style=\"text-align: right;\">\n",
       "      <th></th>\n",
       "      <th>date</th>\n",
       "      <th>time</th>\n",
       "      <th>article</th>\n",
       "      <th>Quantity</th>\n",
       "      <th>unit_price</th>\n",
       "      <th>total_price</th>\n",
       "      <th>year</th>\n",
       "      <th>month</th>\n",
       "      <th>hour</th>\n",
       "    </tr>\n",
       "  </thead>\n",
       "  <tbody>\n",
       "    <tr>\n",
       "      <th>0</th>\n",
       "      <td>2021-01-02</td>\n",
       "      <td>08:38</td>\n",
       "      <td>BAGUETTE</td>\n",
       "      <td>1.0</td>\n",
       "      <td>0.90</td>\n",
       "      <td>0.90</td>\n",
       "      <td>2021</td>\n",
       "      <td>1</td>\n",
       "      <td>8</td>\n",
       "    </tr>\n",
       "    <tr>\n",
       "      <th>1</th>\n",
       "      <td>2021-01-02</td>\n",
       "      <td>08:38</td>\n",
       "      <td>PAIN AU CHOCOLAT</td>\n",
       "      <td>3.0</td>\n",
       "      <td>1.20</td>\n",
       "      <td>3.60</td>\n",
       "      <td>2021</td>\n",
       "      <td>1</td>\n",
       "      <td>8</td>\n",
       "    </tr>\n",
       "    <tr>\n",
       "      <th>2</th>\n",
       "      <td>2021-01-02</td>\n",
       "      <td>09:14</td>\n",
       "      <td>PAIN AU CHOCOLAT</td>\n",
       "      <td>2.0</td>\n",
       "      <td>1.20</td>\n",
       "      <td>2.40</td>\n",
       "      <td>2021</td>\n",
       "      <td>1</td>\n",
       "      <td>9</td>\n",
       "    </tr>\n",
       "    <tr>\n",
       "      <th>3</th>\n",
       "      <td>2021-01-02</td>\n",
       "      <td>09:14</td>\n",
       "      <td>PAIN</td>\n",
       "      <td>1.0</td>\n",
       "      <td>1.15</td>\n",
       "      <td>1.15</td>\n",
       "      <td>2021</td>\n",
       "      <td>1</td>\n",
       "      <td>9</td>\n",
       "    </tr>\n",
       "    <tr>\n",
       "      <th>4</th>\n",
       "      <td>2021-01-02</td>\n",
       "      <td>09:25</td>\n",
       "      <td>TRADITIONAL BAGUETTE</td>\n",
       "      <td>5.0</td>\n",
       "      <td>1.20</td>\n",
       "      <td>6.00</td>\n",
       "      <td>2021</td>\n",
       "      <td>1</td>\n",
       "      <td>9</td>\n",
       "    </tr>\n",
       "  </tbody>\n",
       "</table>\n",
       "</div>"
      ],
      "text/plain": [
       "        date   time               article  Quantity  unit_price  total_price  \\\n",
       "0 2021-01-02  08:38              BAGUETTE       1.0        0.90         0.90   \n",
       "1 2021-01-02  08:38      PAIN AU CHOCOLAT       3.0        1.20         3.60   \n",
       "2 2021-01-02  09:14      PAIN AU CHOCOLAT       2.0        1.20         2.40   \n",
       "3 2021-01-02  09:14                  PAIN       1.0        1.15         1.15   \n",
       "4 2021-01-02  09:25  TRADITIONAL BAGUETTE       5.0        1.20         6.00   \n",
       "\n",
       "   year  month  hour  \n",
       "0  2021      1     8  \n",
       "1  2021      1     8  \n",
       "2  2021      1     9  \n",
       "3  2021      1     9  \n",
       "4  2021      1     9  "
      ]
     },
     "execution_count": 33,
     "metadata": {},
     "output_type": "execute_result"
    }
   ],
   "source": [
    "sales_2021.head()"
   ]
  },
  {
   "cell_type": "code",
   "execution_count": 34,
   "id": "7e6a17a5-df86-465b-bd2f-2132691ecd45",
   "metadata": {},
   "outputs": [
    {
     "data": {
      "text/html": [
       "<div>\n",
       "<style scoped>\n",
       "    .dataframe tbody tr th:only-of-type {\n",
       "        vertical-align: middle;\n",
       "    }\n",
       "\n",
       "    .dataframe tbody tr th {\n",
       "        vertical-align: top;\n",
       "    }\n",
       "\n",
       "    .dataframe thead th {\n",
       "        text-align: right;\n",
       "    }\n",
       "</style>\n",
       "<table border=\"1\" class=\"dataframe\">\n",
       "  <thead>\n",
       "    <tr style=\"text-align: right;\">\n",
       "      <th></th>\n",
       "      <th>date</th>\n",
       "      <th>time</th>\n",
       "      <th>article</th>\n",
       "      <th>Quantity</th>\n",
       "      <th>unit_price</th>\n",
       "      <th>total_price</th>\n",
       "      <th>year</th>\n",
       "      <th>month</th>\n",
       "      <th>hour</th>\n",
       "    </tr>\n",
       "  </thead>\n",
       "  <tbody>\n",
       "    <tr>\n",
       "      <th>131420</th>\n",
       "      <td>2022-01-02</td>\n",
       "      <td>07:39</td>\n",
       "      <td>BANETTE</td>\n",
       "      <td>5.0</td>\n",
       "      <td>1.05</td>\n",
       "      <td>5.25</td>\n",
       "      <td>2022</td>\n",
       "      <td>1</td>\n",
       "      <td>7</td>\n",
       "    </tr>\n",
       "    <tr>\n",
       "      <th>131421</th>\n",
       "      <td>2022-01-02</td>\n",
       "      <td>07:39</td>\n",
       "      <td>CEREAL BAGUETTE</td>\n",
       "      <td>3.0</td>\n",
       "      <td>1.25</td>\n",
       "      <td>3.75</td>\n",
       "      <td>2022</td>\n",
       "      <td>1</td>\n",
       "      <td>7</td>\n",
       "    </tr>\n",
       "    <tr>\n",
       "      <th>131422</th>\n",
       "      <td>2022-01-02</td>\n",
       "      <td>07:44</td>\n",
       "      <td>BANETTE</td>\n",
       "      <td>1.0</td>\n",
       "      <td>1.05</td>\n",
       "      <td>1.05</td>\n",
       "      <td>2022</td>\n",
       "      <td>1</td>\n",
       "      <td>7</td>\n",
       "    </tr>\n",
       "    <tr>\n",
       "      <th>131423</th>\n",
       "      <td>2022-01-02</td>\n",
       "      <td>07:44</td>\n",
       "      <td>PAIN AU CHOCOLAT</td>\n",
       "      <td>2.0</td>\n",
       "      <td>1.20</td>\n",
       "      <td>2.40</td>\n",
       "      <td>2022</td>\n",
       "      <td>1</td>\n",
       "      <td>7</td>\n",
       "    </tr>\n",
       "    <tr>\n",
       "      <th>131424</th>\n",
       "      <td>2022-01-02</td>\n",
       "      <td>07:45</td>\n",
       "      <td>BAGUETTE</td>\n",
       "      <td>1.0</td>\n",
       "      <td>0.90</td>\n",
       "      <td>0.90</td>\n",
       "      <td>2022</td>\n",
       "      <td>1</td>\n",
       "      <td>7</td>\n",
       "    </tr>\n",
       "  </tbody>\n",
       "</table>\n",
       "</div>"
      ],
      "text/plain": [
       "             date   time           article  Quantity  unit_price  total_price  \\\n",
       "131420 2022-01-02  07:39           BANETTE       5.0        1.05         5.25   \n",
       "131421 2022-01-02  07:39   CEREAL BAGUETTE       3.0        1.25         3.75   \n",
       "131422 2022-01-02  07:44           BANETTE       1.0        1.05         1.05   \n",
       "131423 2022-01-02  07:44  PAIN AU CHOCOLAT       2.0        1.20         2.40   \n",
       "131424 2022-01-02  07:45          BAGUETTE       1.0        0.90         0.90   \n",
       "\n",
       "        year  month  hour  \n",
       "131420  2022      1     7  \n",
       "131421  2022      1     7  \n",
       "131422  2022      1     7  \n",
       "131423  2022      1     7  \n",
       "131424  2022      1     7  "
      ]
     },
     "execution_count": 34,
     "metadata": {},
     "output_type": "execute_result"
    }
   ],
   "source": [
    "sales_2022.head()"
   ]
  },
  {
   "cell_type": "markdown",
   "id": "cb93340e-04e8-46ef-acce-f9971d3ddc2e",
   "metadata": {},
   "source": [
    "## 2021"
   ]
  },
  {
   "cell_type": "code",
   "execution_count": 35,
   "id": "adeff551-5a17-41ee-9605-38c30ced5023",
   "metadata": {},
   "outputs": [
    {
     "data": {
      "text/plain": [
       "article\n",
       "TRADITIONAL BAGUETTE    65619.0\n",
       "CROISSANT               16398.0\n",
       "PAIN AU CHOCOLAT        13829.0\n",
       "COUPE                   13666.0\n",
       "BANETTE                 13003.0\n",
       "Name: Quantity, dtype: float64"
      ]
     },
     "execution_count": 35,
     "metadata": {},
     "output_type": "execute_result"
    }
   ],
   "source": [
    "sales_2021.groupby('article').sum().Quantity.sort_values(ascending = False)[:5]"
   ]
  },
  {
   "cell_type": "code",
   "execution_count": 36,
   "id": "f3ae54cf-18a6-41c1-893a-06533db62134",
   "metadata": {},
   "outputs": [
    {
     "data": {
      "text/plain": [
       "month\n",
       "1      9476.0\n",
       "2     11834.0\n",
       "3     13791.0\n",
       "4     16552.0\n",
       "5     19469.0\n",
       "6     16369.0\n",
       "7     28335.0\n",
       "8     33328.0\n",
       "9     15276.0\n",
       "10    14971.0\n",
       "11    11773.0\n",
       "12    12138.0\n",
       "Name: Quantity, dtype: float64"
      ]
     },
     "execution_count": 36,
     "metadata": {},
     "output_type": "execute_result"
    }
   ],
   "source": [
    "sales_2021.groupby('month').sum().Quantity"
   ]
  },
  {
   "cell_type": "markdown",
   "id": "1c0a98ea-162d-4fdc-969e-21fb2ed772f6",
   "metadata": {},
   "source": [
    "## 2022"
   ]
  },
  {
   "cell_type": "code",
   "execution_count": 37,
   "id": "cf82d8f5-6bc2-42af-98b2-b436d581a41a",
   "metadata": {},
   "outputs": [
    {
     "data": {
      "text/plain": [
       "article\n",
       "TRADITIONAL BAGUETTE    51844.0\n",
       "CROISSANT               13256.0\n",
       "PAIN AU CHOCOLAT        11407.0\n",
       "COUPE                    9839.0\n",
       "BANETTE                  9729.0\n",
       "Name: Quantity, dtype: float64"
      ]
     },
     "execution_count": 37,
     "metadata": {},
     "output_type": "execute_result"
    }
   ],
   "source": [
    "sales_2022.groupby('article').sum().Quantity.sort_values(ascending = False)[:5]"
   ]
  },
  {
   "cell_type": "code",
   "execution_count": 38,
   "id": "f78ced76-7025-4d88-9d73-7eb621b2d7fa",
   "metadata": {},
   "outputs": [
    {
     "data": {
      "text/plain": [
       "month\n",
       "1     8952.0\n",
       "2    11531.0\n",
       "3    11789.0\n",
       "4    14925.0\n",
       "5    17643.0\n",
       "6    15659.0\n",
       "7    29192.0\n",
       "8    33545.0\n",
       "9    13433.0\n",
       "Name: Quantity, dtype: float64"
      ]
     },
     "execution_count": 38,
     "metadata": {},
     "output_type": "execute_result"
    }
   ],
   "source": [
    "sales_2022.groupby('month').sum().Quantity"
   ]
  },
  {
   "cell_type": "markdown",
   "id": "3a6872db-e07a-4c3c-b289-8cb066207c58",
   "metadata": {},
   "source": [
    "### Compare 2021 and 2022"
   ]
  },
  {
   "cell_type": "code",
   "execution_count": 39,
   "id": "3a7fd37a-2a4d-4726-8cc6-32b87c48279f",
   "metadata": {},
   "outputs": [
    {
     "data": {
      "text/plain": [
       "25371.693333333333"
      ]
     },
     "execution_count": 39,
     "metadata": {},
     "output_type": "execute_result"
    }
   ],
   "source": [
    "sales_2021.total_price.sum()/12"
   ]
  },
  {
   "cell_type": "code",
   "execution_count": 40,
   "id": "8d3ab09d-7743-45f1-8fc3-e9d299560221",
   "metadata": {},
   "outputs": [],
   "source": [
    "year = [2021,2022]\n",
    "avg_monthly_sales = [sales_2021.total_price.sum()/12, sales_2022.total_price.sum()/9]"
   ]
  },
  {
   "cell_type": "code",
   "execution_count": 41,
   "id": "3ec14268-c079-4fdc-a71c-cdfba81671ff",
   "metadata": {},
   "outputs": [
    {
     "data": {
      "image/png": "[encoded data removed]",
      "text/plain": [
       "<Figure size 432x288 with 1 Axes>"
      ]
     },
     "metadata": {},
     "output_type": "display_data"
    }
   ],
   "source": [
    "fig, ax = plt.subplots()\n",
    "colors = ['orange', 'green']\n",
    "ax.bar(year, avg_monthly_sales, width = 0.5, color = colors)\n",
    "ax.set_xticks(year)\n",
    "ax.set_title(\"Average Monthly Sales (€)\")\n",
    "plt.show()"
   ]
  },
  {
   "cell_type": "code",
   "execution_count": 42,
   "id": "e9fc784d-e678-4c43-ac4c-2a372d224fdb",
   "metadata": {},
   "outputs": [
    {
     "data": {
      "text/plain": [
       "pandas.core.series.Series"
      ]
     },
     "execution_count": 42,
     "metadata": {},
     "output_type": "execute_result"
    }
   ],
   "source": [
    "type(sales_2022.groupby('month').sum().Quantity)"
   ]
  },
  {
   "cell_type": "code",
   "execution_count": 43,
   "id": "ba06fde7-cd66-4445-99aa-e9aaa09c55ff",
   "metadata": {},
   "outputs": [],
   "source": [
    "monthly21 = sales_2021.groupby('month').sum().Quantity"
   ]
  },
  {
   "cell_type": "code",
   "execution_count": 44,
   "id": "db47f492-2ae8-4dd3-b7db-42feb7cb1e39",
   "metadata": {},
   "outputs": [],
   "source": [
    "monthly22 = sales_2022.groupby('month').sum().Quantity"
   ]
  },
  {
   "cell_type": "code",
   "execution_count": 45,
   "id": "1161c2d4-83cc-4ad0-8934-9c41e05b15db",
   "metadata": {},
   "outputs": [],
   "source": [
    "monthly22[10] = 0\n",
    "monthly22[11] = 0\n",
    "monthly22[12] = 0"
   ]
  },
  {
   "cell_type": "code",
   "execution_count": 46,
   "id": "b454c893-2581-4924-9e40-4b3ab8c0dd3c",
   "metadata": {},
   "outputs": [
    {
     "data": {
      "text/plain": [
       "month\n",
       "1      8952.0\n",
       "2     11531.0\n",
       "3     11789.0\n",
       "4     14925.0\n",
       "5     17643.0\n",
       "6     15659.0\n",
       "7     29192.0\n",
       "8     33545.0\n",
       "9     13433.0\n",
       "10        0.0\n",
       "11        0.0\n",
       "12        0.0\n",
       "Name: Quantity, dtype: float64"
      ]
     },
     "execution_count": 46,
     "metadata": {},
     "output_type": "execute_result"
    }
   ],
   "source": [
    "monthly22"
   ]
  },
  {
   "cell_type": "code",
   "execution_count": 47,
   "id": "8f2b9d57-0675-4474-aee2-fc93b31dab36",
   "metadata": {},
   "outputs": [],
   "source": [
    "total21 = sales_2021.groupby('month').sum().total_price\n",
    "total22 = sales_2022.groupby('month').sum().total_price\n",
    "total22[10] = 0\n",
    "total22[11] = 0\n",
    "total22[12] = 0"
   ]
  },
  {
   "cell_type": "code",
   "execution_count": 48,
   "id": "bb584a19-d50f-499b-b885-c5ec6f002c74",
   "metadata": {},
   "outputs": [
    {
     "data": {
      "image/png": "[encoded data removed]",
      "text/plain": [
       "<Figure size 576x396 with 1 Axes>"
      ]
     },
     "metadata": {},
     "output_type": "display_data"
    }
   ],
   "source": [
    "months = np.arange(1,13)\n",
    "plt.style.use('seaborn')\n",
    "plt.bar(months-0.2, total21, width = 0.4, label = \"2021\")\n",
    "plt.bar(months+0.2, total22, color = 'orange', width = 0.4, label = \"2022\")\n",
    "plt.xticks(months)\n",
    "plt.title(\"Sales by Month (euro)\")\n",
    "plt.legend()\n",
    "plt.show()"
   ]
  },
  {
   "cell_type": "code",
   "execution_count": 49,
   "id": "54977020-f72d-47b1-aeb6-bb400ecf04d3",
   "metadata": {},
   "outputs": [
    {
     "data": {
      "image/png": "[encoded data removed]",
      "text/plain": [
       "<Figure size 576x396 with 1 Axes>"
      ]
     },
     "metadata": {},
     "output_type": "display_data"
    }
   ],
   "source": [
    "months = np.arange(1,13)\n",
    "plt.bar(months-0.2, monthly21, width = 0.4, label = \"2021\")\n",
    "plt.bar(months+0.2, monthly22, color = 'orange', width = 0.4, label = \"2022\")\n",
    "plt.xticks(months)\n",
    "plt.title(\"Number of Products Sold by Month\")\n",
    "plt.legend()\n",
    "plt.show()"
   ]
  }
 ],
 "metadata": {
  "kernelspec": {
   "display_name": "f2022-s2023",
   "language": "python",
   "name": "f2022-s2023"
  },
  "language_info": {
   "codemirror_mode": {
    "name": "ipython",
    "version": 3
   },
   "file_extension": ".py",
   "mimetype": "text/x-python",
   "name": "python",
   "nbconvert_exporter": "python",
   "pygments_lexer": "ipython3",
   "version": "3.10.7"
  }
 },
 "nbformat": 4,
 "nbformat_minor": 5
}
