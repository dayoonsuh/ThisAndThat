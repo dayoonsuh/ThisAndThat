{
 "cells": [
  {
   "cell_type": "code",
   "execution_count": 1,
   "id": "8703f4f4",
   "metadata": {},
   "outputs": [],
   "source": [
    "import pandas as pd\n",
    "import numpy as np\n",
    "import seaborn as sns\n",
    "import matplotlib.pyplot as plt"
   ]
  },
  {
   "cell_type": "code",
   "execution_count": 14,
   "id": "1a4078f7",
   "metadata": {},
   "outputs": [],
   "source": [
    "data = pd.read_csv(\"trip_rest_newyork_1.csv\")"
   ]
  },
  {
   "cell_type": "code",
   "execution_count": 15,
   "id": "4892c552",
   "metadata": {},
   "outputs": [
    {
     "data": {
      "text/html": [
       "<div>\n",
       "<style scoped>\n",
       "    .dataframe tbody tr th:only-of-type {\n",
       "        vertical-align: middle;\n",
       "    }\n",
       "\n",
       "    .dataframe tbody tr th {\n",
       "        vertical-align: top;\n",
       "    }\n",
       "\n",
       "    .dataframe thead th {\n",
       "        text-align: right;\n",
       "    }\n",
       "</style>\n",
       "<table border=\"1\" class=\"dataframe\">\n",
       "  <thead>\n",
       "    <tr style=\"text-align: right;\">\n",
       "      <th></th>\n",
       "      <th>Title</th>\n",
       "      <th>Number of review</th>\n",
       "      <th>Catagory</th>\n",
       "      <th>Reveiw Comment</th>\n",
       "      <th>Popular food</th>\n",
       "      <th>Online Order</th>\n",
       "    </tr>\n",
       "  </thead>\n",
       "  <tbody>\n",
       "    <tr>\n",
       "      <th>0</th>\n",
       "      <td>All Stars Sports Bar &amp; Grill</td>\n",
       "      <td>21</td>\n",
       "      <td>Bar, Pub</td>\n",
       "      <td>“The fries were terrific also, hot crisp...”</td>\n",
       "      <td>fries</td>\n",
       "      <td>Yes</td>\n",
       "    </tr>\n",
       "    <tr>\n",
       "      <th>1</th>\n",
       "      <td>Olio e Piu</td>\n",
       "      <td>2,998</td>\n",
       "      <td>Italian, Pizza</td>\n",
       "      <td>“I love the food and our server Maria!”</td>\n",
       "      <td>filet mignon</td>\n",
       "      <td>Yes</td>\n",
       "    </tr>\n",
       "    <tr>\n",
       "      <th>2</th>\n",
       "      <td>Boucherie West Village</td>\n",
       "      <td>1,465</td>\n",
       "      <td>French, Steakhouse</td>\n",
       "      <td>“The filet mignon was impeccable and the musse...</td>\n",
       "      <td>lobster</td>\n",
       "      <td>Yes</td>\n",
       "    </tr>\n",
       "    <tr>\n",
       "      <th>3</th>\n",
       "      <td>Club A Steakhouse</td>\n",
       "      <td>4,413</td>\n",
       "      <td>American, Steakhouse</td>\n",
       "      <td>“My seafood cocktail had wonderful large lump ...</td>\n",
       "      <td>cacio e pepe</td>\n",
       "      <td>Yes</td>\n",
       "    </tr>\n",
       "    <tr>\n",
       "      <th>4</th>\n",
       "      <td>Piccola Cucina Estiatorio</td>\n",
       "      <td>403</td>\n",
       "      <td>Italian, Sicilian</td>\n",
       "      <td>“penne al pomodoro and bucatini cacio e pepe w...</td>\n",
       "      <td>mussels</td>\n",
       "      <td>Yes</td>\n",
       "    </tr>\n",
       "  </tbody>\n",
       "</table>\n",
       "</div>"
      ],
      "text/plain": [
       "                          Title Number of review              Catagory  \\\n",
       "0  All Stars Sports Bar & Grill               21              Bar, Pub   \n",
       "1                    Olio e Piu            2,998        Italian, Pizza   \n",
       "2        Boucherie West Village            1,465    French, Steakhouse   \n",
       "3             Club A Steakhouse            4,413  American, Steakhouse   \n",
       "4     Piccola Cucina Estiatorio              403     Italian, Sicilian   \n",
       "\n",
       "                                      Reveiw Comment  Popular food  \\\n",
       "0       “The fries were terrific also, hot crisp...”         fries   \n",
       "1            “I love the food and our server Maria!”  filet mignon   \n",
       "2  “The filet mignon was impeccable and the musse...       lobster   \n",
       "3  “My seafood cocktail had wonderful large lump ...  cacio e pepe   \n",
       "4  “penne al pomodoro and bucatini cacio e pepe w...       mussels   \n",
       "\n",
       "  Online Order  \n",
       "0          Yes  \n",
       "1          Yes  \n",
       "2          Yes  \n",
       "3          Yes  \n",
       "4          Yes  "
      ]
     },
     "execution_count": 15,
     "metadata": {},
     "output_type": "execute_result"
    }
   ],
   "source": [
    "data.head()"
   ]
  },
  {
   "cell_type": "code",
   "execution_count": 16,
   "id": "667b46a4",
   "metadata": {},
   "outputs": [],
   "source": [
    "data.rename(columns={'Catagory': 'Category'}, inplace=True)"
   ]
  },
  {
   "cell_type": "code",
   "execution_count": 17,
   "id": "97bd9e45",
   "metadata": {},
   "outputs": [
    {
     "data": {
      "text/plain": [
       "Title               object\n",
       "Number of review    object\n",
       "Category            object\n",
       "Reveiw Comment      object\n",
       "Popular food        object\n",
       "Online Order        object\n",
       "dtype: object"
      ]
     },
     "execution_count": 17,
     "metadata": {},
     "output_type": "execute_result"
    }
   ],
   "source": [
    "data.dtypes"
   ]
  },
  {
   "cell_type": "code",
   "execution_count": 18,
   "id": "dcf13d3b",
   "metadata": {},
   "outputs": [],
   "source": [
    "data['Number of review'] = pd.to_numeric(data['Number of review'].str.replace(\",\", \"\"),errors='coerce', downcast='integer')"
   ]
  },
  {
   "cell_type": "code",
   "execution_count": 19,
   "id": "d4623e94",
   "metadata": {},
   "outputs": [
    {
     "data": {
      "text/plain": [
       "Title                object\n",
       "Number of review    float64\n",
       "Category             object\n",
       "Reveiw Comment       object\n",
       "Popular food         object\n",
       "Online Order         object\n",
       "dtype: object"
      ]
     },
     "execution_count": 19,
     "metadata": {},
     "output_type": "execute_result"
    }
   ],
   "source": [
    "data.dtypes"
   ]
  },
  {
   "cell_type": "markdown",
   "id": "b5f85681",
   "metadata": {},
   "source": [
    "There must be some numeric value that could not be converted into integer type."
   ]
  },
  {
   "cell_type": "code",
   "execution_count": 20,
   "id": "790a5733",
   "metadata": {},
   "outputs": [
    {
     "data": {
      "text/plain": [
       "array(['fries', 'filet mignon', 'lobster', 'cacio e pepe', 'mussels',\n",
       "       'pizza', 'French Onion Soup', 'burger', 'tikka masala',\n",
       "       'crispy duck', 'breakfast sandwich', 'Arancini', 'lamb', 'ceviche',\n",
       "       'Cod', 'beef', 'Bolognese', 'Soup', 'nachos', 'Steak',\n",
       "       'chicken piccata', 'french toast', 'ribeye', 'No', 'tiramisu',\n",
       "       'duck', 'kale salad', 'salad', 'Lobster', 'risotto',\n",
       "       'steak tartare', 'band', 'rice', 'Duck', 'Ramen', 'croquettes',\n",
       "       'coq au vin', 'dumplings', 'Salmon', 'bar', 'gyoza', 'bagels',\n",
       "       'Mexican Food', 'sliders', 'sashimi', 'Octopus', 'Pasta',\n",
       "       'French Toast', 'course tasting menu', 'bass', 'spaghetti',\n",
       "       'Truffle', 'Italian restaurant', 'cannoli', 'with some friends',\n",
       "       'vegetarian', 'cheesecake', 'chilli chicken', 'octopus', 'Pizza',\n",
       "       'Paccheri', 'French toast', 'Thai', 'Great atmosphere', 'oysters',\n",
       "       'ramen', 'Clam Chowder', 'Red curry', 'Vegan', 'clams', 'tuna',\n",
       "       'fried oysters', 'scallops', 'Crab Cakes', 'fresh pasta',\n",
       "       'lasagna', 'Neapolitan', 'Anniversary Dinner', 'foie Gras',\n",
       "       'cold noodles', 'truffle fries', 'Eggs Benedict', 'steak', 'diner',\n",
       "       'pasta', 'Tuna', 'carbonara', 'lobster bisque', 'pancakes',\n",
       "       'Chili', 'salmon', 'Pasta dishes', 'feijoada', 'wings',\n",
       "       'clam chowder', 'chicken parmigiana', 'Benedict', 'Farm to Table',\n",
       "       'pasta dishes', 'Sandwiches', 'halibut', 'Mediterranean food',\n",
       "       'Dim Sum', 'crab cakes', 'Astice', 'goat cheese salad',\n",
       "       'eggs benedict', 'trout', 'hummus', 'Curry', 'jambalaya',\n",
       "       'Breakfast Sandwich', 'tapas', 'Gluten Free', 'black beans',\n",
       "       'Sushi', 'Kimchi', 'Huevos rancheros', 'Greek', 'Australia',\n",
       "       'tacos', 'prosciutto', 'Branzino', 'Great burgers', 'Burger',\n",
       "       'pretzels', 'paella', 'seafood paella', 'cream cheese',\n",
       "       'Cuban Sandwich', 'fried pickles', 'picanha', 'Tiramisu',\n",
       "       'Lobster Roll', 'fish and chips', 'Cuban sandwich', 'BLT',\n",
       "       'Avocado Toast', 'carne asada', 'New York Style Pizza', 'Garden',\n",
       "       'bao', 'CALZONE', 'French dip', 'corvina', 'Crab cakes', 'chili',\n",
       "       'sandwiches', 'Swordfish', 'tortillas', 'fried rice',\n",
       "       'An Italian restaurant', 'polenta', 'duck confit', 'sushi',\n",
       "       'Chicken Parm', 'Greece', 'Meatloaf', 'breakfast place',\n",
       "       'focaccia', 'Rib Steak', 'bibimbap', 'paninis', 'meatballs',\n",
       "       'calamari', 'great burgers', 'falafel', 'Great coffee', 'Snails',\n",
       "       'soups', 'Mac and cheese', 'West', 'PIADINA', 'skewers',\n",
       "       'burger and fries', 'gluten free', 'Reuben Sandwich',\n",
       "       'moules frites', 'Souvlaki', 'stracciatella', 'sweet potato fries',\n",
       "       'bruschetta', 'pub', 'Bartender', 'pastrami sandwich',\n",
       "       'chicken parmesan', 'lobster roll', 'eggplant', 'Spaghetti',\n",
       "       'Vitello', 'Asian food', 'creamed spinach', 'caviar',\n",
       "       'tagliatelle', 'pork', 'Bar', 'best pizza', 'green curry',\n",
       "       'beet salad', 'chaat', 'Great bar', 'cod', 'Beef', 'ribs',\n",
       "       'chicken enchiladas', 'Home Fries', 'pizza oven', 'brisket',\n",
       "       'swordfish', 'Pier', 'escargot', 'donuts', 'Amazing food',\n",
       "       'bouillabaisse', 'chicken and waffles', 'Fine', 'noodles',\n",
       "       'Rack of Lamb', 'Mac and Cheese', 'mac and cheese', 'cobb salad',\n",
       "       'vegan', 'asian food', 'Great pub', 'beans', 'Cheesecake',\n",
       "       'baked potato', 'filet', 'Pancakes', 'pint', 'Fish and Chips',\n",
       "       'veal', 'guac', 'French onion soup', 'spaghetti and meatballs',\n",
       "       'Shawarma', 'Korean BBQ', 'Pad Thai', 'sports bar', 'quail',\n",
       "       'lobster tail', 'Homemade pasta', 'Filet Mignon', 'Poke bowl',\n",
       "       'arancini', 'kebab', 'Margherita', 'Cacio e Pepe', 'eggs Benedict',\n",
       "       'seafood', 'Tomato soup', 'carrot cake', 'meringue',\n",
       "       'chile relleno', 'tortellini', 'paccheri', 'Spanish',\n",
       "       'Chicken Wings', 'fajitas', 'miso ramen', 'Hummus', 'tater tots',\n",
       "       'tofu', 'Tapas', 'foie gras', 'Veal', 'poached eggs',\n",
       "       'pappardelle', 'shepherds pie', 'branzino', 'cash', 'Nachos',\n",
       "       'Chowder', 'baby back ribs', 'Margherita pizza', 'Tarte Tatin',\n",
       "       'Chicken Enchiladas', 'Waitstaff', 'fun atmosphere', 'Beer', 'rum',\n",
       "       'Diner', 'Lebanese', 'Delicious Pizza', 'German food',\n",
       "       'Peking duck', 'asparagus', 'beers', 'chicken kebab',\n",
       "       'Breakfast and Lunch', 'house wine', 'christmas', 'Fusion',\n",
       "       'Korean food', 'burrito', 'Shepherds Pie', 'apps', 'crab',\n",
       "       'Ireland', 'tartufo', 'Yorkshire pudding', 'Great Mexican Food',\n",
       "       'curry', 'margaritas', 'an Italian restaurant', 'Steak Tartare',\n",
       "       'collard greens', 'seafood linguine', 'beer', 'Salad',\n",
       "       'Great Breakfast', 'German Food', 'meat', 'PASTA', 'papaya salad',\n",
       "       'entrecote', 'Cheeseburger', 'lamb chops', 'Pub', 'wontons',\n",
       "       'cornbread', 'Wagyu', 'Baklava', 'Dim sum', 'tasty pizza',\n",
       "       'pub food', 'Coconut rice', 'Thai food', 'cheeseburger',\n",
       "       'great cocktails', 'FRENCH ONION SOUP', 'deli', 'bartender',\n",
       "       'downtown', 'chowder', 'patatas bravas', 'Patatas Bravas',\n",
       "       'Schnitzel', 'Pho', 'Christmas', 'great place for breakfast',\n",
       "       'Japanese restaurant', 'the pub', 'breakfast burrito', 'prime rib',\n",
       "       'First class', 'Seafood', 'Italian Food', 'Brussel sprouts',\n",
       "       'GREAT pizza', 'DUMPLINGS', 'amuse bouche', 'wine bar', 'street',\n",
       "       'oz', 'bone', 'Chicken Shawarma', 'truffle', 'Carne Asada',\n",
       "       'fish & chips', 'Spring rolls', 'Taco', 'Paris', 'margarita',\n",
       "       'chicken marsala', 'Margarita', 'pace', 'shrimp and grits', 'udon',\n",
       "       'Irish pub', 'mixed grill', 'fondue', 'tasting menu', 'Carbonara',\n",
       "       'Sports Bar', 'Breakfast', 'pizza place', 'Lasagna',\n",
       "       'Tandoori chicken', 'soup', 'Italian dishes', 'Mixed Grill',\n",
       "       'deviled eggs', 'Mediterranean Food', 'Bun', 'Great Bar',\n",
       "       'Chinatown', 'pierogies', 'German', 'Calamari', 'Osteria',\n",
       "       'Chicken Sandwich', 'Indian', 'red curry', 'Great breakfast',\n",
       "       'Milano', 'sat at the bar', 'Tempura', 'olive', 'red wine', 'Rome',\n",
       "       'baklava', 'pad thai', 'lovely restaurant', 'Cobb salad', 'pho',\n",
       "       'Booked a table', 'Chinese food', 'Latin', 'BBQ', 'oyster',\n",
       "       'Toscano', 'Waterfront', 'Peruvian', 'Vietnamese food',\n",
       "       'italian dishes', 'fish tacos', 'Great Indian Food', 'Escargot',\n",
       "       'noodle soup', 'steak & frites', 'Tasty Pizza', 'naan',\n",
       "       'breakfast and Lunch', 'Dumplings', 'panzerotti', 'great bar',\n",
       "       'dim sum', 'Italian food', 'wagyu beef', 'Fish tacos',\n",
       "       'Hot and Sour Soup', 'Crostini', 'catfish', 'twist',\n",
       "       'Friendly atmosphere', 'Irish Pub', 'Mexican restaurant',\n",
       "       'plantains', 'Bao', 'middle Eastern food', 'Singapore', 'Fajitas',\n",
       "       'prawns', 'breakfast', 'foods', 'roll', 'Wine Bar', 'kimchi',\n",
       "       'goulash', 'Ethiopian', 'scones', 'Mexican food', 'draft', 'nyc',\n",
       "       'Great Pizza', 'Oysters', 'spare ribs', 'great value for money',\n",
       "       'great atmosphere', 'fresh fish', 'thin crust', 'Peking Duck',\n",
       "       'Market', 'Clams', 'venison', 'Fish Tacos', 'NACHOS', 'Tamales',\n",
       "       'Asia', 'Great Brunch', 'tequila', 'Scampi', 'tostones', 'on tap',\n",
       "       'Macaroons', 'cake', 'gluten-free', 'Great pizza', 'Wings',\n",
       "       'empanadas', 'Stout', 'Mortadella', 'Excellent Coffee', 'Fries',\n",
       "       'Delicious food', 'enchiladas', 'duck breast', 'holiday', 'crepes',\n",
       "       'souvlaki', 'Views', 'Noodles', 'chicken fajitas', 'champagne',\n",
       "       'views', 'wine pairing', 'Grilled Cheese', 'churros', 'bun',\n",
       "       'almond', 'Indian restaurant', 'Sangria', 'Saganaki',\n",
       "       'chicken parm', 'fine', 'misto', 'PAELLA', 'Vietnamese restaurant',\n",
       "       'peas', 'Meat', 'broth', 'Miami', 'tea', 'Bagels', 'Texas', 'ales',\n",
       "       'Beer Selection', 'Moules Frites', 'smoothies', 'Peas',\n",
       "       'Lovely lunch', 'Brussels sprouts', 'margherita', 'mariscos',\n",
       "       'Pizzeria', 'turkey', 'Tacos', 'Panna', 'Surf and turf',\n",
       "       'special occasion', 'ice cream', 'surf and turf',\n",
       "       'Japanese Restaurant', 'Lamb', 'Best Pizza', 'Lomo Saltado',\n",
       "       'crust', 'soup dumplings'], dtype=object)"
      ]
     },
     "execution_count": 20,
     "metadata": {},
     "output_type": "execute_result"
    }
   ],
   "source": [
    "data['Popular food'].unique()"
   ]
  },
  {
   "cell_type": "code",
   "execution_count": null,
   "id": "a544d1df",
   "metadata": {},
   "outputs": [],
   "source": []
  }
 ],
 "metadata": {
  "kernelspec": {
   "display_name": "Python 3 (ipykernel)",
   "language": "python",
   "name": "python3"
  },
  "language_info": {
   "codemirror_mode": {
    "name": "ipython",
    "version": 3
   },
   "file_extension": ".py",
   "mimetype": "text/x-python",
   "name": "python",
   "nbconvert_exporter": "python",
   "pygments_lexer": "ipython3",
   "version": "3.9.12"
  }
 },
 "nbformat": 4,
 "nbformat_minor": 5
}
